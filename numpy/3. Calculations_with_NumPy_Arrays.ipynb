{
  "nbformat": 4,
  "nbformat_minor": 0,
  "metadata": {
    "colab": {
      "provenance": [],
      "toc_visible": true,
      "include_colab_link": true
    },
    "kernelspec": {
      "name": "python3",
      "display_name": "Python 3"
    }
  },
  "cells": [
    {
      "cell_type": "markdown",
      "metadata": {
        "id": "view-in-github",
        "colab_type": "text"
      },
      "source": [
        "<a href=\"https://colab.research.google.com/github/JustinShawAcademy/DataTalent/blob/main/Calculations_with_NumPy_Arrays.ipynb\" target=\"_parent\"><img src=\"https://colab.research.google.com/assets/colab-badge.svg\" alt=\"Open In Colab\"/></a>"
      ]
    },
    {
      "cell_type": "markdown",
      "metadata": {
        "id": "a0J1t54eut_D"
      },
      "source": [
        "# Calculations with NumPy Arrays\n",
        "\n",
        "One of the most powerful features of NumPy is the operations you can perform on its arrays. In this notebook we will cover the topics of:\n",
        "\n",
        "- Mathematical operations\n",
        "- Statistical operations\n",
        "- Sorting and advanced indexing"
      ]
    },
    {
      "cell_type": "markdown",
      "metadata": {
        "id": "hD_V6R1AwbEa"
      },
      "source": [
        "## Basic Mathematical Operations\n",
        "\n",
        "NumPy allows us to use mathematical operators such as `+` and `*` to perform *element-wise* operations. This means that these operations are applied element by element."
      ]
    },
    {
      "cell_type": "code",
      "metadata": {
        "id": "vKxcW91Ruq9Q",
        "outputId": "e6383159-7362-4311-b4e8-81a9383c4e11",
        "colab": {
          "base_uri": "https://localhost:8080/"
        }
      },
      "source": [
        "import numpy as np\n",
        "\n",
        "a = np.array([20,30,40,50])\n",
        "b = np.arange(1, 5)\n",
        "print(a)\n",
        "print(b)"
      ],
      "execution_count": null,
      "outputs": [
        {
          "output_type": "stream",
          "name": "stdout",
          "text": [
            "[20 30 40 50]\n",
            "[1 2 3 4]\n"
          ]
        }
      ]
    },
    {
      "cell_type": "code",
      "metadata": {
        "id": "Ne9yUyGDxBs0",
        "outputId": "57ae5950-09d8-47c5-b6af-80c7ff7b6b04",
        "colab": {
          "base_uri": "https://localhost:8080/"
        }
      },
      "source": [
        "print('Subtraction:\\t', a - b)\n",
        "print('Addition:\\t', a + b)\n",
        "print('Multiplication:\\t', a * b)\n",
        "print('Division:\\t', a / b)\n",
        "print('Exponentiation:\\t', a ** b)"
      ],
      "execution_count": null,
      "outputs": [
        {
          "output_type": "stream",
          "name": "stdout",
          "text": [
            "Subtraction:\t [19 28 37 46]\n",
            "Addition:\t [21 32 43 54]\n",
            "Multiplication:\t [ 20  60 120 200]\n",
            "Division:\t [20.         15.         13.33333333 12.5       ]\n",
            "Exponentiation:\t [     20     900   64000 6250000]\n"
          ]
        }
      ]
    },
    {
      "cell_type": "markdown",
      "metadata": {
        "id": "OOkQkEDhyqsx"
      },
      "source": [
        "Note that to perform these operations, the arrays must have compatible sizes. In simple cases this means that arrays must have the same shapes."
      ]
    },
    {
      "cell_type": "code",
      "metadata": {
        "id": "MDPOo0GwyObq",
        "outputId": "e27605b1-0c48-4aff-82c5-dd3d5573e199",
        "colab": {
          "base_uri": "https://localhost:8080/"
        }
      },
      "source": [
        "a1 = np.r_[a, 60, 70]\n",
        "print(a1)\n",
        "print(b)\n",
        "try:\n",
        "    print(a1 + b)\n",
        "except ValueError as e:\n",
        "    print('Error:', e)"
      ],
      "execution_count": null,
      "outputs": [
        {
          "output_type": "stream",
          "name": "stdout",
          "text": [
            "[20 30 40 50 60 70]\n",
            "[1 2 3 4]\n",
            "Error: operands could not be broadcast together with shapes (6,) (4,) \n"
          ]
        }
      ]
    },
    {
      "cell_type": "markdown",
      "metadata": {
        "id": "6a6LN-ZG0J5h"
      },
      "source": [
        "NumPy deals with differences in shape using its *broadcasting rules*, which is where this error message is coming from. The error is telling us that NumPy tried to perform the operation after applying the broadcasting rules but still couldn't do it, so basically the shapes of these arrays were incompatiable for addition.\n",
        "\n",
        "For a quick summary of the broadcasting rules see [here](https://numpy.org/doc/stable/user/quickstart.html#broadcasting-rules). We'll return to this topic later to learn more about it."
      ]
    },
    {
      "cell_type": "markdown",
      "metadata": {
        "id": "bSjIp2s81sbi"
      },
      "source": [
        "NumPy also allows you to perform the same operation to each element, for example to multiply each element in an array by 2, or to add 15 onto each element."
      ]
    },
    {
      "cell_type": "code",
      "metadata": {
        "id": "nqwtSL032IHH",
        "outputId": "b07d631a-7063-47b1-b890-44e7c483aaae",
        "colab": {
          "base_uri": "https://localhost:8080/"
        }
      },
      "source": [
        "print(b)\n",
        "print(b * 2)\n",
        "print(b + 15)"
      ],
      "execution_count": null,
      "outputs": [
        {
          "output_type": "stream",
          "name": "stdout",
          "text": [
            "[1 2 3 4]\n",
            "[2 4 6 8]\n",
            "[16 17 18 19]\n"
          ]
        }
      ]
    },
    {
      "cell_type": "markdown",
      "metadata": {
        "id": "AcM8VpXf2gu2"
      },
      "source": [
        "We can also check conditions against each element in an array, for example to check if each element is less than 40."
      ]
    },
    {
      "cell_type": "code",
      "metadata": {
        "id": "SAY2R8M92rNE",
        "outputId": "a6e3cf0d-e934-462d-e801-9428696333b3",
        "colab": {
          "base_uri": "https://localhost:8080/"
        }
      },
      "source": [
        "print(a)\n",
        "print(a < 40)\n",
        "print(b)\n",
        "print(b < 40)"
      ],
      "execution_count": null,
      "outputs": [
        {
          "output_type": "stream",
          "name": "stdout",
          "text": [
            "[20 30 40 50]\n",
            "[ True  True False False]\n",
            "[1 2 3 4]\n",
            "[ True  True  True  True]\n"
          ]
        }
      ]
    },
    {
      "cell_type": "markdown",
      "metadata": {
        "id": "ntxMpPtM3NIo"
      },
      "source": [
        "We can update arrays in-place with arithmetic operations similar to how we do it in Python: we place the arithmetic operation symbol to the left of the equals sign, e.g. `+=`."
      ]
    },
    {
      "cell_type": "code",
      "metadata": {
        "id": "h4A2FlZK3fcq",
        "outputId": "15d4fcfc-984e-446d-98e4-f6af4ee4679b",
        "colab": {
          "base_uri": "https://localhost:8080/"
        }
      },
      "source": [
        "a1 = a.copy()\n",
        "print(a1)\n",
        "a1 += 3\n",
        "print(a1)"
      ],
      "execution_count": null,
      "outputs": [
        {
          "output_type": "stream",
          "name": "stdout",
          "text": [
            "[20 30 40 50]\n",
            "[23 33 43 53]\n"
          ]
        }
      ]
    },
    {
      "cell_type": "code",
      "metadata": {
        "id": "zdVSx3Mx30fx",
        "outputId": "c33185b6-6b70-4b5b-da39-fda439a57699",
        "colab": {
          "base_uri": "https://localhost:8080/"
        }
      },
      "source": [
        "# The above is the same as\n",
        "print(a)\n",
        "a += 3\n",
        "print(a)"
      ],
      "execution_count": null,
      "outputs": [
        {
          "output_type": "stream",
          "name": "stdout",
          "text": [
            "[20 30 40 50]\n",
            "[23 33 43 53]\n"
          ]
        }
      ]
    },
    {
      "cell_type": "code",
      "metadata": {
        "id": "VMysvZbs32iN",
        "outputId": "605b9735-1249-4ee4-b105-24e4c2bd0599",
        "colab": {
          "base_uri": "https://localhost:8080/"
        }
      },
      "source": [
        "# We can also put arrays on the right hand side\n",
        "print(a)\n",
        "print(b)\n",
        "a *= b\n",
        "print(a)"
      ],
      "execution_count": null,
      "outputs": [
        {
          "output_type": "stream",
          "name": "stdout",
          "text": [
            "[23 33 43 53]\n",
            "[1 2 3 4]\n",
            "[ 23  66 129 212]\n"
          ]
        }
      ]
    },
    {
      "cell_type": "markdown",
      "metadata": {
        "id": "Lps2_Kvp4i3c"
      },
      "source": [
        "**Challenge:** Create two arrays with shapes (2, 3), update the first one so its values are multiplied by 2, then update the second one by adding the first to it.\n",
        "\n",
        "Look carefully at the resulting numbers and make sure you understand how each is computed."
      ]
    },
    {
      "cell_type": "code",
      "metadata": {
        "id": "XWkOskv243mC",
        "outputId": "a4fcba0f-1764-4452-ffe9-a7ea4471e342",
        "colab": {
          "base_uri": "https://localhost:8080/"
        }
      },
      "source": [
        "a1 = np.array([2, 4, 6, 8, 10, 12]).reshape((2, 3))\n",
        "a2 = np.array([20, 25, 30, 35, 40, 45]).reshape((2, 3))\n",
        "a1 *= 2\n",
        "a2 += a1\n",
        "print(a1)\n",
        "print(a2)"
      ],
      "execution_count": null,
      "outputs": [
        {
          "output_type": "stream",
          "name": "stdout",
          "text": [
            "[[ 4  8 12]\n",
            " [16 20 24]]\n",
            "[[24 33 42]\n",
            " [51 60 69]]\n"
          ]
        }
      ]
    },
    {
      "cell_type": "markdown",
      "metadata": {
        "id": "y5SYHkU95cg5"
      },
      "source": [
        "## Statistical Operations\n",
        "\n",
        "NumPy supports many unary operations to compute statistics about our arrays, such as minimums, maximums, and averages."
      ]
    },
    {
      "cell_type": "markdown",
      "metadata": {
        "id": "EDJIedFG6tqg"
      },
      "source": [
        "We can sum values in our arrays. We can either sum all elements, or sum along a particular axis."
      ]
    },
    {
      "cell_type": "code",
      "metadata": {
        "id": "uEGZO8Ga6ym2",
        "outputId": "47de6de3-e6ab-493d-a3ce-0618e335861d",
        "colab": {
          "base_uri": "https://localhost:8080/"
        }
      },
      "source": [
        "b = np.arange(12).reshape(3,4)\n",
        "print(b)\n",
        "# Sum all the elements, effectively 0+1+2+...+9+10+11\n",
        "print(b.sum())"
      ],
      "execution_count": null,
      "outputs": [
        {
          "output_type": "stream",
          "name": "stdout",
          "text": [
            "[[ 0  1  2  3]\n",
            " [ 4  5  6  7]\n",
            " [ 8  9 10 11]]\n",
            "66\n"
          ]
        }
      ]
    },
    {
      "cell_type": "code",
      "metadata": {
        "id": "lL1Hpii-8XIn",
        "outputId": "582c5c75-4ca3-4523-cec4-2bcf76e47af4",
        "colab": {
          "base_uri": "https://localhost:8080/"
        }
      },
      "source": [
        "# Sum along axis 0, meaning add each row together\n",
        "print(b.sum(axis=0))\n",
        "\n",
        "# The above is effectively the same as doing this\n",
        "t = b[0].copy() # Challenge question: why do we have to use copy?\n",
        "for row in b[1:]:\n",
        "    t += row\n",
        "print(t)"
      ],
      "execution_count": null,
      "outputs": [
        {
          "output_type": "stream",
          "name": "stdout",
          "text": [
            "[12 15 18 21]\n",
            "[12 15 18 21]\n"
          ]
        }
      ]
    },
    {
      "cell_type": "code",
      "metadata": {
        "id": "UILCgTPG8ldN",
        "colab": {
          "base_uri": "https://localhost:8080/"
        },
        "outputId": "da7c53d6-c06c-431e-8a5d-26b97bf835f1"
      },
      "source": [
        "# Sum along axis 1, meaning add each column together\n",
        "print(b.sum(axis=1))"
      ],
      "execution_count": null,
      "outputs": [
        {
          "output_type": "stream",
          "name": "stdout",
          "text": [
            "[ 6 22 38]\n"
          ]
        }
      ]
    },
    {
      "cell_type": "markdown",
      "metadata": {
        "id": "sVgRnm1S-Dcs"
      },
      "source": [
        "This pattern of having an `axis` parameter is used frequently for methods in NumPy, here's a few more examples."
      ]
    },
    {
      "cell_type": "code",
      "metadata": {
        "id": "jIIYrbil-PqM",
        "colab": {
          "base_uri": "https://localhost:8080/"
        },
        "outputId": "1eeceae7-d011-4ce3-8a76-b0eaff22f03a"
      },
      "source": [
        "print(b)\n",
        "print('---')\n",
        "print(b.min())\n",
        "print(b.max())\n",
        "print(b.min(axis=0)) # Gives the min across all rows\n",
        "print(b.max(axis=1)) # Gives the max across all columns\n",
        "# The cumulative sum across the columns\n",
        "print(b.cumsum(axis=1))"
      ],
      "execution_count": null,
      "outputs": [
        {
          "output_type": "stream",
          "name": "stdout",
          "text": [
            "[[ 0  1  2  3]\n",
            " [ 4  5  6  7]\n",
            " [ 8  9 10 11]]\n",
            "---\n",
            "0\n",
            "11\n",
            "[0 1 2 3]\n",
            "[ 3  7 11]\n",
            "[[ 0  1  3  6]\n",
            " [ 4  9 15 22]\n",
            " [ 8 17 27 38]]\n"
          ]
        }
      ]
    },
    {
      "cell_type": "markdown",
      "metadata": {
        "id": "ScjL46v-_BBb"
      },
      "source": [
        "NumPy also provides useful mathematical functions such as sin, cos, and square root. These apply the operations on every element."
      ]
    },
    {
      "cell_type": "code",
      "metadata": {
        "id": "BFzQgCXc_X3P",
        "colab": {
          "base_uri": "https://localhost:8080/"
        },
        "outputId": "a47835f8-8517-4a0f-c44a-ebfc53f91fff"
      },
      "source": [
        "print(np.sin(b))\n",
        "print(np.cos(b))\n",
        "print(np.sqrt(b))"
      ],
      "execution_count": null,
      "outputs": [
        {
          "output_type": "stream",
          "name": "stdout",
          "text": [
            "[[ 0.          0.84147098  0.90929743  0.14112001]\n",
            " [-0.7568025  -0.95892427 -0.2794155   0.6569866 ]\n",
            " [ 0.98935825  0.41211849 -0.54402111 -0.99999021]]\n",
            "[[ 1.          0.54030231 -0.41614684 -0.9899925 ]\n",
            " [-0.65364362  0.28366219  0.96017029  0.75390225]\n",
            " [-0.14550003 -0.91113026 -0.83907153  0.0044257 ]]\n",
            "[[0.         1.         1.41421356 1.73205081]\n",
            " [2.         2.23606798 2.44948974 2.64575131]\n",
            " [2.82842712 3.         3.16227766 3.31662479]]\n"
          ]
        }
      ]
    },
    {
      "cell_type": "markdown",
      "metadata": {
        "id": "K3fif5k4_juz"
      },
      "source": [
        "## Advanced Topics"
      ]
    },
    {
      "cell_type": "markdown",
      "metadata": {
        "id": "G23sYKp9_1i2"
      },
      "source": [
        "### Applying Functions\n",
        "\n",
        "If you have a more complex operation to perform on an array, you might want to use `apply_along_axis`. This applies a function to the one-dimensional slices along a given axis.\n",
        "\n",
        "For example say we wanted to compute the average of the first and last elements of each row or column in an array."
      ]
    },
    {
      "cell_type": "code",
      "metadata": {
        "id": "nxmDJ5rPAVqV",
        "colab": {
          "base_uri": "https://localhost:8080/"
        },
        "outputId": "c8516f32-c5d4-4674-e854-1bbf3b3d60b0"
      },
      "source": [
        "def my_func(a):\n",
        "    \"\"\"Average first and last element of a 1-D array\"\"\"\n",
        "    print(a)\n",
        "    return (a[0] + a[-1]) * 0.5\n",
        "\n",
        "b = np.array([[1,2,3],\n",
        "              [4,5,6],\n",
        "              [7,8,9]])\n",
        "print('Result axis 0: ', np.apply_along_axis(my_func, 0, b)) # Averages along the rows\n",
        "print('Result axis 1: ', np.apply_along_axis(my_func, 1, b)) # Averages along the columns"
      ],
      "execution_count": null,
      "outputs": [
        {
          "output_type": "stream",
          "name": "stdout",
          "text": [
            "[1 4 7]\n",
            "[2 5 8]\n",
            "[3 6 9]\n",
            "Result axis 0:  [4. 5. 6.]\n",
            "[1 2 3]\n",
            "[4 5 6]\n",
            "[7 8 9]\n",
            "Result axis 1:  [2. 5. 8.]\n"
          ]
        }
      ]
    },
    {
      "cell_type": "markdown",
      "metadata": {
        "id": "OnXn_3f4B2hz"
      },
      "source": [
        "Look at how the slices are passed in to our function by NumPy, it may be counter intuitive at first. You can think of it as NumPy taking a knife and slicing the array in the direction of the axis you specified, then passing those slices to our function.\n",
        "\n",
        "So if we say `axis=0`, NumPy slices *down* because the rows are stacked *vertically*.\n",
        "\n",
        "If we say `axis=1`, NumPy slices *right* because the columns are stacked *horizontally*."
      ]
    },
    {
      "cell_type": "markdown",
      "metadata": {
        "id": "mCalq7SoHRJs"
      },
      "source": [
        "**Challenge:** Write code to multiply all the values in each row and replace each row with the result."
      ]
    },
    {
      "cell_type": "code",
      "metadata": {
        "id": "oAlcGq2tH39F",
        "colab": {
          "base_uri": "https://localhost:8080/"
        },
        "outputId": "b3a44f2d-70dc-4aca-b9ac-030c4e2aa9aa"
      },
      "source": [
        "def prod(a):\n",
        "    r = a[0]\n",
        "    for v in a[1:]:\n",
        "        r *= v\n",
        "    return r\n",
        "print(np.apply_along_axis(prod, 1, b))\n",
        "\n",
        "# ...or equivalently\n",
        "print(np.apply_along_axis(np.prod, 1, b))\n",
        "\n",
        "# ...or\n",
        "print(np.prod(b, axis=1))"
      ],
      "execution_count": null,
      "outputs": [
        {
          "output_type": "stream",
          "name": "stdout",
          "text": [
            "[  6 120 504]\n",
            "[  6 120 504]\n",
            "[  6 120 504]\n"
          ]
        }
      ]
    },
    {
      "cell_type": "markdown",
      "metadata": {
        "id": "4USvgUuoA3UQ"
      },
      "source": [
        "### Sorting\n",
        "\n",
        "As another example, say you wanted to sort the values in each row.\n",
        "\n",
        "**Challenge:** Before we write the code, which axis do we need to specify to get the values in each row?\n"
      ]
    },
    {
      "cell_type": "code",
      "metadata": {
        "id": "7KSEAYSbA-bN",
        "colab": {
          "base_uri": "https://localhost:8080/"
        },
        "outputId": "9345105d-d4cc-449c-f713-a261bdde0cd5"
      },
      "source": [
        "b = np.array([[8,1,7], [4,3,9], [5,2,6]])\n",
        "print(b)\n",
        "print(np.apply_along_axis(sorted, 1, b))"
      ],
      "execution_count": null,
      "outputs": [
        {
          "output_type": "stream",
          "name": "stdout",
          "text": [
            "[[8 1 7]\n",
            " [4 3 9]\n",
            " [5 2 6]]\n",
            "[[1 7 8]\n",
            " [3 4 9]\n",
            " [2 5 6]]\n"
          ]
        }
      ]
    },
    {
      "cell_type": "markdown",
      "metadata": {
        "id": "PTBBidhEC5NC"
      },
      "source": [
        "Another way to perform this sorting is to use the `sort` function of NumPy. This also allows us to specify axes to sort."
      ]
    },
    {
      "cell_type": "code",
      "metadata": {
        "id": "IYtVBIdiDiAX",
        "colab": {
          "base_uri": "https://localhost:8080/"
        },
        "outputId": "9122acaa-84a5-47e6-b1f4-35ed1ecdd847"
      },
      "source": [
        "print(b)\n",
        "print(np.sort(b)) # Sorts along the last axis, so the columns in this case\n",
        "print(np.sort(b, axis=0)) # Sorts along the rows\n",
        "print(np.sort(b, axis=1)) # Sorts along the columns"
      ],
      "execution_count": null,
      "outputs": [
        {
          "output_type": "stream",
          "name": "stdout",
          "text": [
            "[[8 1 7]\n",
            " [4 3 9]\n",
            " [5 2 6]]\n",
            "[[1 7 8]\n",
            " [3 4 9]\n",
            " [2 5 6]]\n",
            "[[4 1 6]\n",
            " [5 2 7]\n",
            " [8 3 9]]\n",
            "[[1 7 8]\n",
            " [3 4 9]\n",
            " [2 5 6]]\n"
          ]
        }
      ]
    },
    {
      "cell_type": "markdown",
      "metadata": {
        "id": "3YmZXSuMEA-Q"
      },
      "source": [
        "The above function, `np.sort`, returns a sorted copy of the array. If you want to sort the array in place you can use the `sort` method on the array itself."
      ]
    },
    {
      "cell_type": "code",
      "metadata": {
        "id": "PQCW3nfREPKO",
        "colab": {
          "base_uri": "https://localhost:8080/"
        },
        "outputId": "5f934a7e-e671-406e-9cd3-ef9c82d57a17"
      },
      "source": [
        "b1 = b.copy()\n",
        "np.sort(b1)\n",
        "print(b1) # Not sorted\n",
        "print('---')\n",
        "b1.sort()\n",
        "print(b1) # Sorted"
      ],
      "execution_count": null,
      "outputs": [
        {
          "output_type": "stream",
          "name": "stdout",
          "text": [
            "[[8 1 7]\n",
            " [4 3 9]\n",
            " [5 2 6]]\n",
            "---\n",
            "[[1 7 8]\n",
            " [3 4 9]\n",
            " [2 5 6]]\n"
          ]
        }
      ]
    },
    {
      "cell_type": "markdown",
      "metadata": {
        "id": "cORuonnAGG5z"
      },
      "source": [
        "### Advanced Indexing\n",
        "\n",
        "We can use boolean operators to perform a comparison on each element in an array. These boolean operations generate arrays of booleans."
      ]
    },
    {
      "cell_type": "code",
      "metadata": {
        "id": "BuvXtc8RGfEi",
        "colab": {
          "base_uri": "https://localhost:8080/"
        },
        "outputId": "df481438-2ec1-46bf-d655-a6cb7564d04a"
      },
      "source": [
        "a = np.arange(12).reshape(3,4)\n",
        "b = a > 4\n",
        "# b is an array of booleans with a's shape\n",
        "print(b)\n",
        "# Indexing into a with b gives all the values in a greater than 4\n",
        "print(a[b])"
      ],
      "execution_count": null,
      "outputs": [
        {
          "output_type": "stream",
          "name": "stdout",
          "text": [
            "[[False False False False]\n",
            " [False  True  True  True]\n",
            " [ True  True  True  True]]\n",
            "[ 5  6  7  8  9 10 11]\n"
          ]
        }
      ]
    },
    {
      "cell_type": "markdown",
      "metadata": {
        "id": "-JGdmN9GG3Rh"
      },
      "source": [
        "This can be very useful in assignments. For example if we wanted set all values in `a` greater than 4 to 0, we could do"
      ]
    },
    {
      "cell_type": "code",
      "metadata": {
        "id": "rD4Ntpo2G8CU",
        "colab": {
          "base_uri": "https://localhost:8080/"
        },
        "outputId": "54f35cd5-3aaa-4cc9-aff3-f9632b6e814d"
      },
      "source": [
        "a[a > 4] = 0\n",
        "print(a)"
      ],
      "execution_count": null,
      "outputs": [
        {
          "output_type": "stream",
          "name": "stdout",
          "text": [
            "[[0 1 2 3]\n",
            " [4 0 0 0]\n",
            " [0 0 0 0]]\n"
          ]
        }
      ]
    },
    {
      "cell_type": "markdown",
      "metadata": {
        "id": "hZKKNo-BJLdk"
      },
      "source": [
        "Indexing with an array can also be performed with actual indices instead of booleans. The best way to understand is with examples."
      ]
    },
    {
      "cell_type": "code",
      "metadata": {
        "id": "QK5RiPYmJf09",
        "colab": {
          "base_uri": "https://localhost:8080/"
        },
        "outputId": "5fd5deb6-cbc3-44c6-c842-32473947558c"
      },
      "source": [
        "a = np.arange(12)**2 # the first 12 square numbers\n",
        "print(a)\n",
        "i = np.array([1, 1, 3, 8, 5]) # an array of indices\n",
        "print(a[i]) # the elements of a at the positions i"
      ],
      "execution_count": null,
      "outputs": [
        {
          "output_type": "stream",
          "name": "stdout",
          "text": [
            "[  0   1   4   9  16  25  36  49  64  81 100 121]\n",
            "[ 1  1  9 64 25]\n"
          ]
        }
      ]
    },
    {
      "cell_type": "code",
      "metadata": {
        "id": "kBQ22t2qJl2i",
        "outputId": "73cc4adb-72dd-4879-d822-bff17798699f",
        "colab": {
          "base_uri": "https://localhost:8080/"
        }
      },
      "source": [
        "j = np.array([[3, 4],\n",
        "              [9, 7]]) # a 2D array of indices\n",
        "print(a[j])"
      ],
      "execution_count": null,
      "outputs": [
        {
          "output_type": "stream",
          "name": "stdout",
          "text": [
            "[[ 9 16]\n",
            " [81 49]]\n"
          ]
        }
      ]
    },
    {
      "cell_type": "markdown",
      "metadata": {
        "id": "nfPDmjC5KDQY"
      },
      "source": [
        "Each number in the indexing array specifies the index of the number we want from `a`, then NumPy gives us back an array with the same shape as the indexing array with the values filled in."
      ]
    },
    {
      "cell_type": "markdown",
      "metadata": {
        "id": "Kadtxhv2KP3Q"
      },
      "source": [
        "If the indexed array `a` is multidimensional, each array of indices refers to the first dimension `a`."
      ]
    },
    {
      "cell_type": "code",
      "metadata": {
        "id": "67UdtWCdK49b",
        "colab": {
          "base_uri": "https://localhost:8080/"
        },
        "outputId": "5c275cdc-76c1-42e8-bfdc-bdc4363dcbe3"
      },
      "source": [
        "a = np.arange(12).reshape(3, 4)\n",
        "print(a)\n",
        "\n",
        "i = np.array([0, 1]) # We want the first and second rows of a\n",
        "print(a[i])\n",
        "\n",
        "i = np.array([[0, 1], # We want the first and second rows in one array\n",
        "              [1, 2]]) # As well as the second and third rows in another array\n",
        "print(a[i])"
      ],
      "execution_count": null,
      "outputs": [
        {
          "output_type": "stream",
          "name": "stdout",
          "text": [
            "[[ 0  1  2  3]\n",
            " [ 4  5  6  7]\n",
            " [ 8  9 10 11]]\n",
            "[[0 1 2 3]\n",
            " [4 5 6 7]]\n",
            "[[[ 0  1  2  3]\n",
            "  [ 4  5  6  7]]\n",
            "\n",
            " [[ 4  5  6  7]\n",
            "  [ 8  9 10 11]]]\n"
          ]
        }
      ]
    },
    {
      "cell_type": "markdown",
      "metadata": {
        "id": "o2_PmGWVMUnT"
      },
      "source": [
        "We can also index into both the rows and columns at the same time. In this case the two indexing arrays must have the same shape so NumPy can pick pairs of indexes."
      ]
    },
    {
      "cell_type": "code",
      "metadata": {
        "id": "cqbIN7SCMZdr",
        "colab": {
          "base_uri": "https://localhost:8080/"
        },
        "outputId": "5086939b-cd7c-410d-a819-e7b16602bcf9"
      },
      "source": [
        "a = np.arange(12).reshape(3,4)\n",
        "print(a)\n",
        "\n",
        "i = np.array([[0, 1], # indices for the first dimension of a\n",
        "              [1, 2]])\n",
        "j = np.array([[2, 1], # indices for the second dimension\n",
        "              [3, 3]])\n",
        "\n",
        "# With the above indices, we are saying we want a 2x2 array with a[0,2] in the top left,\n",
        "# a[1,1] in the top right, a[1,3] in the bottom left, and a[2,3] in the bottom right\n",
        "print(a[i, j])\n",
        "\n",
        "# With this we are using the same rows but we're only grabbing from the third column\n",
        "print(a[i, 2])"
      ],
      "execution_count": null,
      "outputs": [
        {
          "output_type": "stream",
          "name": "stdout",
          "text": [
            "[[ 0  1  2  3]\n",
            " [ 4  5  6  7]\n",
            " [ 8  9 10 11]]\n",
            "[[ 2  5]\n",
            " [ 7 11]]\n",
            "[[ 2  6]\n",
            " [ 6 10]]\n"
          ]
        }
      ]
    },
    {
      "cell_type": "code",
      "metadata": {
        "id": "l1igd1fCN_Tb",
        "colab": {
          "base_uri": "https://localhost:8080/"
        },
        "outputId": "ecaeb5ed-7c92-43b0-db5e-0a1f111ca14e"
      },
      "source": [
        "a = np.array([4, 3, 2, 1])\n",
        "print(a)"
      ],
      "execution_count": null,
      "outputs": [
        {
          "output_type": "stream",
          "name": "stdout",
          "text": [
            "[4 3 2 1]\n"
          ]
        }
      ]
    },
    {
      "cell_type": "markdown",
      "metadata": {
        "id": "sAG-6sjGN0oB"
      },
      "source": [
        "**Challenge**: Using `a` from directly above, manually rearrange the numbers in sorted order using an index array.\n",
        "The resulting array should look like\n",
        "\n",
        "\n",
        "```\n",
        "[1 2 3 4]\n",
        "```\n",
        "\n",
        "**Bonus challenge:** Reshape `a` to be of shape (2, 2), then rearrange in sorted order using an index array. The resulting array should look like\n",
        "\n",
        "\n",
        "```\n",
        "[[1 2]\n",
        " [3 4]]\n",
        "```\n"
      ]
    },
    {
      "cell_type": "code",
      "metadata": {
        "id": "AAdi5_MROYy8",
        "colab": {
          "base_uri": "https://localhost:8080/"
        },
        "outputId": "1e75a655-99a7-4c13-fe02-45c55e52447b"
      },
      "source": [
        "i = np.array([3, 2, 1, 0])\n",
        "print(a[i])\n",
        "\n",
        "# Bonus\n",
        "a2 = a.reshape((2, 2))\n",
        "i = np.array([[1, 1], [0, 0]])\n",
        "j = np.array([[1, 0], [1, 0]])\n",
        "print(a2[i,j])"
      ],
      "execution_count": null,
      "outputs": [
        {
          "output_type": "stream",
          "name": "stdout",
          "text": [
            "[1 2 3 4]\n",
            "[[1 2]\n",
            " [3 4]]\n"
          ]
        }
      ]
    },
    {
      "cell_type": "markdown",
      "metadata": {
        "id": "Dsb0jbIbNuR7"
      },
      "source": [
        "### Broadcasting Rules\n",
        "\n",
        "The broadcasting rules of NumPy define how NumPy treats arrays of different shapes during operations. These are important to understand because there will often be times when we have arrays of different shapes, and if you understand the rules of broadcasting you can save yourself a lot of time and likely make your program more performant.\n",
        "\n",
        "The idea with broadcasting is to transform the smaller array in the operation into a compatible shape. For example, if we had a 2D array and a 1D array normally we couldn't perform element-wise addition because the 1D array doesn't have matching positions."
      ]
    },
    {
      "cell_type": "markdown",
      "metadata": {
        "id": "sYHhFBkh1uYn"
      },
      "source": [
        "From the NumPy documentation:\n",
        "\n",
        "> The first rule of broadcsting is that if all input arrays do not have the same number of dimensions, a \"1\" will be repeatedly prepended to the shapes of the smaller arrays until all the arrays have the same number of dimensions.\n",
        "\n",
        "What this means is that NumPy will transform the smaller array in an operation so that it has the **same number of dimensions** as the larger array.\n",
        "\n",
        "For example, say we had a 2D array and a 1D array that we wanted to add together:"
      ]
    },
    {
      "cell_type": "code",
      "metadata": {
        "id": "qgNw3lrE2uOn",
        "colab": {
          "base_uri": "https://localhost:8080/"
        },
        "outputId": "2a6dbb35-dbef-4ec5-9087-c6471a60e6db"
      },
      "source": [
        "a2 = np.array([[1,2],\n",
        "               [3,4]])\n",
        "a1 = np.array([5, 6])\n",
        "print(a2)\n",
        "print(a1)"
      ],
      "execution_count": null,
      "outputs": [
        {
          "output_type": "stream",
          "name": "stdout",
          "text": [
            "[[1 2]\n",
            " [3 4]]\n",
            "[5 6]\n"
          ]
        }
      ]
    },
    {
      "cell_type": "markdown",
      "metadata": {
        "id": "1zAtrOuO27mv"
      },
      "source": [
        "#### Getting same number of dimensions\n",
        "\n",
        "We can't perform element-wise addition on these yet because they don't have the same number of elements and the elements are not in matching positions.\n",
        "\n",
        "The first rule comes in here to help get the elements in matching positions:\n",
        "\n",
        "`a2` has a shape of (2, 2), and `a1` has a shape of (2,), so when we try to perform an operation on these the first rule of broadcasting transforms `a1` to have a shape of (1, 2). (one row, two columns)"
      ]
    },
    {
      "cell_type": "code",
      "metadata": {
        "id": "T1EXUoaB3eyO",
        "colab": {
          "base_uri": "https://localhost:8080/"
        },
        "outputId": "6bf5289d-86de-4d8c-ab5a-2af86f467d4f"
      },
      "source": [
        "broadcast_a1 = a1[np.newaxis, :]\n",
        "print(broadcast_a1)"
      ],
      "execution_count": null,
      "outputs": [
        {
          "output_type": "stream",
          "name": "stdout",
          "text": [
            "[[5 6]]\n"
          ]
        }
      ]
    },
    {
      "cell_type": "markdown",
      "metadata": {
        "id": "lHaXDKrb3zaz"
      },
      "source": [
        "#### Getting same number of elements\n",
        "\n",
        "Now we are closer to being able to perform the addition because we have the same number of dimensions. We still can't though because `a1` doesn't have the same number of elements, and this is where the second rule comes in:\n",
        "\n",
        "> The second rule of broadcasting ensures that arrays with a size of 1 along a particular dimension act as if they had the size of the array with the largest shape along that dimension. The value of the array element is assumed to be the same along that dimension for the “broadcast” array.\n",
        "\n",
        "What this means is that if a dimension has a size of 1 in an array, it will take the size of the corresponding dimension in the other array by copying itself repeatedly.\n",
        "\n",
        "In our example, `a1` has a shape of (1,2) while `a2` has a shape of (2,2), so it's first dimension will become 2 to match `a2`'s first dimension. What this looks like is:"
      ]
    },
    {
      "cell_type": "code",
      "metadata": {
        "id": "Z-VFjq8G49zM",
        "outputId": "3ad2fc54-5212-4731-8c89-50635aba87ff",
        "colab": {
          "base_uri": "https://localhost:8080/"
        }
      },
      "source": [
        "# We copy the value in a1's first dimension along a1's first dimension until it\n",
        "# has the same size as a2's first dimension\n",
        "broadcast_a1 = [broadcast_a1[0] for _ in range(a2.shape[0])]\n",
        "print(np.array(broadcast_a1))"
      ],
      "execution_count": null,
      "outputs": [
        {
          "output_type": "stream",
          "name": "stdout",
          "text": [
            "[[5 6]\n",
            " [5 6]]\n"
          ]
        }
      ]
    },
    {
      "cell_type": "markdown",
      "metadata": {
        "id": "0Xrdkosz7rck"
      },
      "source": [
        "Now we are done broadcasting and the arrays are compatible! Each element in `a2` now has a corresponding element in `a1` which can be added to it. Putting it all together:"
      ]
    },
    {
      "cell_type": "code",
      "metadata": {
        "id": "fY2wYyYT8AeM",
        "colab": {
          "base_uri": "https://localhost:8080/"
        },
        "outputId": "7d4b12e2-74b5-4779-ebe2-2aa96a12f59e"
      },
      "source": [
        "print('a2:')\n",
        "print(a2)\n",
        "print('a1:')\n",
        "print(a1)\n",
        "print('---\\n')\n",
        "\n",
        "broadcast_a1 = a1[np.newaxis, :]\n",
        "broadcast_a1 = np.array([broadcast_a1[0] for _ in range(a2.shape[0])])\n",
        "\n",
        "print('a2:')\n",
        "print(a2)\n",
        "print('boardcase_a1:')\n",
        "print(broadcast_a1, '\\n')\n",
        "\n",
        "print('adding a1 & a2: \\n', a2 + broadcast_a1)"
      ],
      "execution_count": null,
      "outputs": [
        {
          "output_type": "stream",
          "name": "stdout",
          "text": [
            "a2:\n",
            "[[1 2]\n",
            " [3 4]]\n",
            "a1:\n",
            "[5 6]\n",
            "---\n",
            "\n",
            "a2:\n",
            "[[1 2]\n",
            " [3 4]]\n",
            "boardcase_a1:\n",
            "[[5 6]\n",
            " [5 6]] \n",
            "\n",
            "adding a1 & a2: \n",
            " [[ 6  8]\n",
            " [ 8 10]]\n"
          ]
        }
      ]
    },
    {
      "cell_type": "markdown",
      "metadata": {
        "id": "5LZYrerk9PPP"
      },
      "source": [
        "But NumPy performs these operations automatically for us, so we can just do:"
      ]
    },
    {
      "cell_type": "code",
      "metadata": {
        "id": "wrq2dG4u9Wxz",
        "colab": {
          "base_uri": "https://localhost:8080/"
        },
        "outputId": "7146190c-27b4-4357-cfac-8454f69fe3a1"
      },
      "source": [
        "print('a2: \\n', a2)\n",
        "print('\\na1: \\n', a1)\n",
        "print('\\n a2+a1: \\n', a2 + a1)"
      ],
      "execution_count": null,
      "outputs": [
        {
          "output_type": "stream",
          "name": "stdout",
          "text": [
            "a2: \n",
            " [[1 2]\n",
            " [3 4]]\n",
            "\n",
            "a1: \n",
            " [5 6]\n",
            "\n",
            " a2+a1: \n",
            " [[ 6  8]\n",
            " [ 8 10]]\n"
          ]
        }
      ]
    },
    {
      "cell_type": "markdown",
      "metadata": {
        "id": "VQ9ih1iZ-7En"
      },
      "source": [
        "NumPy will apply the first rule on the smaller of two arrays, and it will apply the second rule only if all dimensions are compatible after the first rule is applied. You may have figured this out by now, but two dimensions are compatible when\n",
        "\n",
        "1. they are equal, or\n",
        "2. one of them is 1.\n",
        "\n",
        "This is important to understand because it tells you which shapes of arrays can and cannot be broadcast together.\n",
        "\n",
        "For example consider two 1D arrays, one with length 3 and the other with length 4. They have the same number of dimensions so the first rule doesn't do anything. But the first dimensions of these are not compatible because they are not equal and neither of them is 1.\n",
        "\n",
        "As another example, consider a 2D array with shape (2,1) and a 3D array of shape (8,4,3). The first rule transforms the 2D array to have shape (1,2,1). Now dimensions 1 and 3 of these two arrays are compatible because the first array has size 1 along those dimensions. However, dimension 2 is incompatible because 4 and 2 are not equal and neither 4 nor 2 is 1."
      ]
    },
    {
      "cell_type": "markdown",
      "metadata": {
        "id": "GCwqnEEnBxma"
      },
      "source": [
        "Let's go through a few more examples:"
      ]
    },
    {
      "cell_type": "code",
      "metadata": {
        "id": "a6oet6I7BOT3",
        "colab": {
          "base_uri": "https://localhost:8080/"
        },
        "outputId": "c0fd0867-e68c-4491-bc54-dab791fc5901"
      },
      "source": [
        "x = np.arange(4)\n",
        "xx = x.reshape(4,1)\n",
        "y = np.ones(5)\n",
        "z = np.ones((3,4))\n",
        "print(x)\n",
        "print(xx)\n",
        "print(y)\n",
        "print(z)"
      ],
      "execution_count": null,
      "outputs": [
        {
          "output_type": "stream",
          "name": "stdout",
          "text": [
            "[0 1 2 3]\n",
            "[[0]\n",
            " [1]\n",
            " [2]\n",
            " [3]]\n",
            "[1. 1. 1. 1. 1.]\n",
            "[[1. 1. 1. 1.]\n",
            " [1. 1. 1. 1.]\n",
            " [1. 1. 1. 1.]]\n"
          ]
        }
      ]
    },
    {
      "cell_type": "code",
      "metadata": {
        "id": "o-kJMrLKB1aB",
        "colab": {
          "base_uri": "https://localhost:8080/"
        },
        "outputId": "750f3b8e-e772-421f-c903-891265f07aa8"
      },
      "source": [
        "print(x.shape)\n",
        "print(y.shape)\n",
        "try:\n",
        "    print(x + y)\n",
        "except ValueError as e:\n",
        "    print(e)"
      ],
      "execution_count": null,
      "outputs": [
        {
          "output_type": "stream",
          "name": "stdout",
          "text": [
            "(4,)\n",
            "(5,)\n",
            "operands could not be broadcast together with shapes (4,) (5,) \n"
          ]
        }
      ]
    },
    {
      "cell_type": "code",
      "metadata": {
        "id": "f3FsPCVPCDDM",
        "colab": {
          "base_uri": "https://localhost:8080/"
        },
        "outputId": "b5fa021d-d1e0-40ea-9c24-9e71f13c8d1b"
      },
      "source": [
        "print(xx.shape)\n",
        "print(y.shape)\n",
        "print((xx + y).shape)\n",
        "print(xx + y)"
      ],
      "execution_count": null,
      "outputs": [
        {
          "output_type": "stream",
          "name": "stdout",
          "text": [
            "(4, 1)\n",
            "(5,)\n",
            "(4, 5)\n",
            "[[1. 1. 1. 1. 1.]\n",
            " [2. 2. 2. 2. 2.]\n",
            " [3. 3. 3. 3. 3.]\n",
            " [4. 4. 4. 4. 4.]]\n"
          ]
        }
      ]
    },
    {
      "cell_type": "code",
      "metadata": {
        "id": "gp4tohCtCEg6",
        "colab": {
          "base_uri": "https://localhost:8080/"
        },
        "outputId": "c1d6a713-cc9d-4408-fc26-5023339ce56b"
      },
      "source": [
        "print(x.shape)\n",
        "print(z.shape)\n",
        "print((x + z).shape)\n",
        "print(x + z)"
      ],
      "execution_count": null,
      "outputs": [
        {
          "output_type": "stream",
          "name": "stdout",
          "text": [
            "(4,)\n",
            "(3, 4)\n",
            "(3, 4)\n",
            "[[1. 2. 3. 4.]\n",
            " [1. 2. 3. 4.]\n",
            " [1. 2. 3. 4.]]\n"
          ]
        }
      ]
    },
    {
      "cell_type": "markdown",
      "metadata": {
        "id": "sek3JNovCZyP"
      },
      "source": [
        "**Challenge:** Create an array of shape (4, 3), then create an array that **can't** be broadcast with it and create one that **can**.\n",
        "\n",
        "**Bonus challenge:** Before you print out the result of the compatible arrays, write out what you think the shape of the resulting array will be."
      ]
    },
    {
      "cell_type": "code",
      "metadata": {
        "id": "bIFj9oS0C_Da",
        "colab": {
          "base_uri": "https://localhost:8080/"
        },
        "outputId": "53f6f674-0bdd-49d9-92ab-1dc39abf5260"
      },
      "source": [
        "a4x3 = np.ones((4, 3))\n",
        "a4x7x3 = np.ones((4, 7, 3))\n",
        "a7x4x1x3 = np.ones((7, 4, 1, 3))\n",
        "\n",
        "try:\n",
        "    a4x3 + a4x7x3\n",
        "except ValueError as e:\n",
        "    print(e)\n",
        "\n",
        "# 1 x 1 x 4 x 3 *\n",
        "# 7 x 4 x 1 x 3 =>\n",
        "# 7 x 4 x 4 x 3\n",
        "r = a4x3 * a7x4x1x3\n",
        "print(r.shape)\n",
        "print(r)"
      ],
      "execution_count": null,
      "outputs": [
        {
          "output_type": "stream",
          "name": "stdout",
          "text": [
            "operands could not be broadcast together with shapes (4,3) (4,7,3) \n",
            "(7, 4, 4, 3)\n",
            "[[[[1. 1. 1.]\n",
            "   [1. 1. 1.]\n",
            "   [1. 1. 1.]\n",
            "   [1. 1. 1.]]\n",
            "\n",
            "  [[1. 1. 1.]\n",
            "   [1. 1. 1.]\n",
            "   [1. 1. 1.]\n",
            "   [1. 1. 1.]]\n",
            "\n",
            "  [[1. 1. 1.]\n",
            "   [1. 1. 1.]\n",
            "   [1. 1. 1.]\n",
            "   [1. 1. 1.]]\n",
            "\n",
            "  [[1. 1. 1.]\n",
            "   [1. 1. 1.]\n",
            "   [1. 1. 1.]\n",
            "   [1. 1. 1.]]]\n",
            "\n",
            "\n",
            " [[[1. 1. 1.]\n",
            "   [1. 1. 1.]\n",
            "   [1. 1. 1.]\n",
            "   [1. 1. 1.]]\n",
            "\n",
            "  [[1. 1. 1.]\n",
            "   [1. 1. 1.]\n",
            "   [1. 1. 1.]\n",
            "   [1. 1. 1.]]\n",
            "\n",
            "  [[1. 1. 1.]\n",
            "   [1. 1. 1.]\n",
            "   [1. 1. 1.]\n",
            "   [1. 1. 1.]]\n",
            "\n",
            "  [[1. 1. 1.]\n",
            "   [1. 1. 1.]\n",
            "   [1. 1. 1.]\n",
            "   [1. 1. 1.]]]\n",
            "\n",
            "\n",
            " [[[1. 1. 1.]\n",
            "   [1. 1. 1.]\n",
            "   [1. 1. 1.]\n",
            "   [1. 1. 1.]]\n",
            "\n",
            "  [[1. 1. 1.]\n",
            "   [1. 1. 1.]\n",
            "   [1. 1. 1.]\n",
            "   [1. 1. 1.]]\n",
            "\n",
            "  [[1. 1. 1.]\n",
            "   [1. 1. 1.]\n",
            "   [1. 1. 1.]\n",
            "   [1. 1. 1.]]\n",
            "\n",
            "  [[1. 1. 1.]\n",
            "   [1. 1. 1.]\n",
            "   [1. 1. 1.]\n",
            "   [1. 1. 1.]]]\n",
            "\n",
            "\n",
            " [[[1. 1. 1.]\n",
            "   [1. 1. 1.]\n",
            "   [1. 1. 1.]\n",
            "   [1. 1. 1.]]\n",
            "\n",
            "  [[1. 1. 1.]\n",
            "   [1. 1. 1.]\n",
            "   [1. 1. 1.]\n",
            "   [1. 1. 1.]]\n",
            "\n",
            "  [[1. 1. 1.]\n",
            "   [1. 1. 1.]\n",
            "   [1. 1. 1.]\n",
            "   [1. 1. 1.]]\n",
            "\n",
            "  [[1. 1. 1.]\n",
            "   [1. 1. 1.]\n",
            "   [1. 1. 1.]\n",
            "   [1. 1. 1.]]]\n",
            "\n",
            "\n",
            " [[[1. 1. 1.]\n",
            "   [1. 1. 1.]\n",
            "   [1. 1. 1.]\n",
            "   [1. 1. 1.]]\n",
            "\n",
            "  [[1. 1. 1.]\n",
            "   [1. 1. 1.]\n",
            "   [1. 1. 1.]\n",
            "   [1. 1. 1.]]\n",
            "\n",
            "  [[1. 1. 1.]\n",
            "   [1. 1. 1.]\n",
            "   [1. 1. 1.]\n",
            "   [1. 1. 1.]]\n",
            "\n",
            "  [[1. 1. 1.]\n",
            "   [1. 1. 1.]\n",
            "   [1. 1. 1.]\n",
            "   [1. 1. 1.]]]\n",
            "\n",
            "\n",
            " [[[1. 1. 1.]\n",
            "   [1. 1. 1.]\n",
            "   [1. 1. 1.]\n",
            "   [1. 1. 1.]]\n",
            "\n",
            "  [[1. 1. 1.]\n",
            "   [1. 1. 1.]\n",
            "   [1. 1. 1.]\n",
            "   [1. 1. 1.]]\n",
            "\n",
            "  [[1. 1. 1.]\n",
            "   [1. 1. 1.]\n",
            "   [1. 1. 1.]\n",
            "   [1. 1. 1.]]\n",
            "\n",
            "  [[1. 1. 1.]\n",
            "   [1. 1. 1.]\n",
            "   [1. 1. 1.]\n",
            "   [1. 1. 1.]]]\n",
            "\n",
            "\n",
            " [[[1. 1. 1.]\n",
            "   [1. 1. 1.]\n",
            "   [1. 1. 1.]\n",
            "   [1. 1. 1.]]\n",
            "\n",
            "  [[1. 1. 1.]\n",
            "   [1. 1. 1.]\n",
            "   [1. 1. 1.]\n",
            "   [1. 1. 1.]]\n",
            "\n",
            "  [[1. 1. 1.]\n",
            "   [1. 1. 1.]\n",
            "   [1. 1. 1.]\n",
            "   [1. 1. 1.]]\n",
            "\n",
            "  [[1. 1. 1.]\n",
            "   [1. 1. 1.]\n",
            "   [1. 1. 1.]\n",
            "   [1. 1. 1.]]]]\n"
          ]
        }
      ]
    },
    {
      "cell_type": "markdown",
      "metadata": {
        "id": "c1zjKhrZE6s6"
      },
      "source": [
        "## References\n",
        "\n",
        "- [NumPy Quickstart](https://numpy.org/doc/stable/user/quickstart.html)\n",
        "- [NumPy Broadcasting](https://numpy.org/doc/stable/user/basics.broadcasting.html)"
      ]
    }
  ]
}