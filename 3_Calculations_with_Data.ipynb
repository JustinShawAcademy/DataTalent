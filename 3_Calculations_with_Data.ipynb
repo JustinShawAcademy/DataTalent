{
  "cells": [
    {
      "cell_type": "markdown",
      "metadata": {
        "id": "view-in-github",
        "colab_type": "text"
      },
      "source": [
        "<a href=\"https://colab.research.google.com/github/JustinShawAcademy/data-science/blob/main/3_Calculations_with_Data.ipynb\" target=\"_parent\"><img src=\"https://colab.research.google.com/assets/colab-badge.svg\" alt=\"Open In Colab\"/></a>"
      ]
    },
    {
      "cell_type": "markdown",
      "metadata": {
        "id": "haIgVKerTm_s"
      },
      "source": [
        "# Python and Data Analysis 3 - Calculations with Data\n",
        "\n",
        "**Goal:** The goal of this project is to learn to calculate information from measured data.\n",
        "\n",
        "**Description:** Data that is given to us is often considered *measured* - it is a real world observation that is recorded and put into a DataFrame. To turn this into information, we need to be able to use the data in calculations. This workshop covers how to create *calculated columns*, and how to calculate *summary statistics*."
      ]
    },
    {
      "cell_type": "markdown",
      "source": [
        "## Importing Data"
      ],
      "metadata": {
        "id": "HsxSdxpAhItL"
      }
    },
    {
      "cell_type": "code",
      "source": [
        "import os\n",
        "import urllib.request\n",
        "\n",
        "\n",
        "\n",
        "# GitHub raw base URL\n",
        "base_url = \"https://raw.githubusercontent.com/JustinShawAcademy/data-science/main/data/\"\n",
        "files = [\"AAPL.csv\", \"AMZN.csv\", \"GOOG.csv\", \"MSFT.csv\"]\n",
        "\n",
        "# download each file into the Colab filesystem\n",
        "for f in files:\n",
        "    urllib.request.urlretrieve(base_url + f, f)\n",
        "\n",
        "print(\"Files downloaded to Colab VM\")\n"
      ],
      "metadata": {
        "colab": {
          "base_uri": "https://localhost:8080/"
        },
        "id": "B7iLJeDwhQf7",
        "outputId": "0e2c9144-de8a-4c75-9ffd-d3bf0685c819"
      },
      "execution_count": 2,
      "outputs": [
        {
          "output_type": "stream",
          "name": "stdout",
          "text": [
            "Files downloaded to Colab VM\n"
          ]
        }
      ]
    },
    {
      "cell_type": "markdown",
      "metadata": {
        "id": "onqkQ_nDTm_u"
      },
      "source": [
        "## 3A: Calculated Columns\n",
        "\n",
        "A calculated column is a column that is added to a DataFrame based on existing columns. In the following DataFrame, we have price information for Amazon's stock. It contains the columns `date`, `open`, `high`, `low`, `close`, and `volume`. We can create a calculated column in two ways."
      ]
    },
    {
      "cell_type": "code",
      "execution_count": 3,
      "metadata": {
        "colab": {
          "base_uri": "https://localhost:8080/"
        },
        "id": "7osEZ0FfTm_v",
        "outputId": "2d855563-e708-4c7c-b264-04b9326fba06"
      },
      "outputs": [
        {
          "output_type": "stream",
          "name": "stdout",
          "text": [
            "         date    open    high     low   close    volume\n",
            "0  1997-05-16  1.8650  1.9792  1.7083  1.7292  14700000\n",
            "1  1997-05-19  1.7083  1.7708  1.6250  1.7083   6106800\n",
            "2  1997-05-20  1.7292  1.7500  1.6358  1.6358   5467200\n",
            "3  1997-05-21  1.6042  1.6458  1.3750  1.4275  18853200\n",
            "4  1997-05-22  1.4375  1.4483  1.3125  1.3958  11776800\n"
          ]
        }
      ],
      "source": [
        "import pandas as pd\n",
        "amzn = pd.read_csv('AMZN.csv')\n",
        "print(amzn.head())"
      ]
    },
    {
      "cell_type": "markdown",
      "metadata": {
        "id": "eQZgsAcuTm_2"
      },
      "source": [
        "### Calculations Across Two Columns\n",
        "\n",
        "Frequently, we want to be able to carry out mathematical operations between two or more columns. The syntax is quite intuitive. For example, we might want to keep track of the daily gains/losses. This can be calculated by subtracting the close price from the opening price: `open - close`."
      ]
    },
    {
      "cell_type": "code",
      "execution_count": 4,
      "metadata": {
        "colab": {
          "base_uri": "https://localhost:8080/"
        },
        "id": "kSkUJOTcTm_2",
        "outputId": "1abcbaf4-68a9-470c-9e33-3c6859f81566"
      },
      "outputs": [
        {
          "output_type": "stream",
          "name": "stdout",
          "text": [
            "         date    open    high     low   close    volume  daily_change\n",
            "0  1997-05-16  1.8650  1.9792  1.7083  1.7292  14700000        0.1358\n",
            "1  1997-05-19  1.7083  1.7708  1.6250  1.7083   6106800        0.0000\n",
            "2  1997-05-20  1.7292  1.7500  1.6358  1.6358   5467200        0.0934\n",
            "3  1997-05-21  1.6042  1.6458  1.3750  1.4275  18853200        0.1767\n",
            "4  1997-05-22  1.4375  1.4483  1.3125  1.3958  11776800        0.0417\n"
          ]
        }
      ],
      "source": [
        "amzn['daily_change'] = amzn['open'] - amzn['close']\n",
        "print(amzn.head())"
      ]
    },
    {
      "cell_type": "markdown",
      "metadata": {
        "id": "dJJJU8UUTm_6"
      },
      "source": [
        "A similar syntax can be used for other operations, including multiplication (`*`), division (`/`), addition (`+`) and exponents (`**`). As another example, perhaps we want an approximation of value of trades executed on a particular day by multiplying an average price by the volume. To get an estimate of average price, we will use `(open + high + low + close) / 4`. The final formula is `((open + high + low + close) / 4) * volume)`."
      ]
    },
    {
      "cell_type": "code",
      "execution_count": 5,
      "metadata": {
        "colab": {
          "base_uri": "https://localhost:8080/"
        },
        "id": "6RWGh2SOTm_7",
        "outputId": "3edf04ad-3dfb-4a46-e0bc-f1d08cd1c222"
      },
      "outputs": [
        {
          "output_type": "stream",
          "name": "stdout",
          "text": [
            "         date    open    high     low   close    volume  daily_value\n",
            "0  1997-05-16  1.8650  1.9792  1.7083  1.7292  14700000  26760247.50\n",
            "1  1997-05-19  1.7083  1.7708  1.6250  1.7083   6106800  10400491.08\n",
            "2  1997-05-20  1.7292  1.7500  1.6358  1.6358   5467200   9226993.44\n",
            "3  1997-05-21  1.6042  1.6458  1.3750  1.4275  18853200  28527248.25\n",
            "4  1997-05-22  1.4375  1.4483  1.3125  1.3958  11776800  16470149.22\n"
          ]
        }
      ],
      "source": [
        "amzn = amzn.drop(columns=['daily_change']) # Removes the 'daily_change' column we created earlier\n",
        "amzn['daily_value'] = ((amzn['open'] + amzn['high'] + amzn['low'] + amzn['close']) / 4) * amzn['volume']\n",
        "print(amzn.head())"
      ]
    },
    {
      "cell_type": "markdown",
      "metadata": {
        "id": "tMcXZWfqTm__"
      },
      "source": [
        "**Challenges**:\n",
        " - Calculate the difference between the `high` and `low` columns\n",
        " - Return the higher value between the `open` and `close` columns (hint: look into the `max` function)\n",
        " - Return the `close` price as a percentage of the original `close` price (useful when comparing the growth of different stocks)"
      ]
    },
    {
      "cell_type": "code",
      "execution_count": 6,
      "metadata": {
        "colab": {
          "base_uri": "https://localhost:8080/"
        },
        "id": "83p4hYs3Ualk",
        "outputId": "747ae7fc-2a0f-4907-90df-faad2501d865"
      },
      "outputs": [
        {
          "output_type": "stream",
          "name": "stdout",
          "text": [
            "High low difference:\n",
            "0         0.2709\n",
            "1         0.1458\n",
            "2         0.1142\n",
            "3         0.2708\n",
            "4         0.1358\n",
            "          ...   \n",
            "5802     42.6600\n",
            "5803    101.4300\n",
            "5804     96.0900\n",
            "5805    135.1500\n",
            "5806    118.1300\n",
            "Length: 5807, dtype: float64\n",
            "\n",
            "Open close max:\n",
            "0          1.8650\n",
            "1          1.7083\n",
            "2          1.7292\n",
            "3          1.6042\n",
            "4          1.4375\n",
            "          ...    \n",
            "5802    2524.0600\n",
            "5803    2600.8600\n",
            "5804    2647.4500\n",
            "5805    2603.5000\n",
            "5806    2601.2100\n",
            "Length: 5807, dtype: float64\n",
            "\n",
            "Close percentage growth: 147179.04%\n"
          ]
        }
      ],
      "source": [
        "print('High low difference:', amzn['high'] - amzn['low'], sep='\\n', end='\\n\\n')\n",
        "\n",
        "# Note that we have to do the max across the two columns via axis=1 instead of\n",
        "# across all rows\n",
        "print('Open close max:', amzn[['open', 'close']].max(axis=1), sep='\\n', end='\\n\\n')\n",
        "\n",
        "close_growth = amzn['close'].iloc[-1] / amzn['close'].iloc[0]\n",
        "print('Close percentage growth:', f\"{close_growth * 100:.2f}%\")"
      ]
    },
    {
      "cell_type": "markdown",
      "metadata": {
        "id": "MfH6HNsbTnAA"
      },
      "source": [
        "### Operations on a Column\n",
        "\n",
        "There is another way to carry out calculations on a column, but it can easily be used for other operations too. The `apply` function takes a column or entire DataFrame and applies a function to each item. This is convenient when the operation we want to perform for each item is quite complex. Below, we have a function `change_date` that takes a date in the form `YYYY-MM-DD` as a string, and outputs it in the form `Month Day, Year`."
      ]
    },
    {
      "cell_type": "code",
      "execution_count": 7,
      "metadata": {
        "colab": {
          "base_uri": "https://localhost:8080/"
        },
        "id": "NbAeV3J5TnAD",
        "outputId": "5e54559d-2944-476b-9069-1bea35a54440"
      },
      "outputs": [
        {
          "output_type": "stream",
          "name": "stdout",
          "text": [
            "May 16, 1997\n"
          ]
        }
      ],
      "source": [
        "def change_date(original_date):\n",
        "    year = original_date[0:4]    # Get the first four characters in the string\n",
        "    month = original_date[5:7]   # Get the month from the string\n",
        "    months = [\"January\", \"February\", \"March\", \"April\", \"May\", \"June\", \"July\",\n",
        "              \"August\", \"September\", \"October\", \"November\", \"December\"]\n",
        "    month_name = months[int(month) - 1] # e.g. int('01') - 1 == 0 giving January\n",
        "    day = original_date[-2:]    # Get the last two characters in the string\n",
        "\n",
        "    return month_name + \" \" + day + \", \" + year\n",
        "\n",
        "print(change_date(amzn['date'][0]))"
      ]
    },
    {
      "cell_type": "markdown",
      "metadata": {
        "id": "Tbp2dY6ETnAN"
      },
      "source": [
        "Because this operation is quite complex, we created a new function for it, and now just need to `apply` `change_date` to our `date` column."
      ]
    },
    {
      "cell_type": "code",
      "execution_count": 8,
      "metadata": {
        "colab": {
          "base_uri": "https://localhost:8080/"
        },
        "id": "QnhphSGMTnAT",
        "outputId": "59de9a4f-678c-4ee3-b492-7f9f78f7ae63"
      },
      "outputs": [
        {
          "output_type": "stream",
          "name": "stdout",
          "text": [
            "           date    open    high     low   close    volume  daily_value\n",
            "0  May 16, 1997  1.8650  1.9792  1.7083  1.7292  14700000  26760247.50\n",
            "1  May 19, 1997  1.7083  1.7708  1.6250  1.7083   6106800  10400491.08\n",
            "2  May 20, 1997  1.7292  1.7500  1.6358  1.6358   5467200   9226993.44\n",
            "3  May 21, 1997  1.6042  1.6458  1.3750  1.4275  18853200  28527248.25\n",
            "4  May 22, 1997  1.4375  1.4483  1.3125  1.3958  11776800  16470149.22\n"
          ]
        }
      ],
      "source": [
        "amzn['date'] = amzn['date'].apply(change_date)\n",
        "print(amzn.head())"
      ]
    },
    {
      "cell_type": "markdown",
      "metadata": {
        "id": "TdZQa66CTnAb"
      },
      "source": [
        "Ultimately, `apply` allows us to carry out more complex operations on a column, and *abstract* their functionality into helper functions.\n",
        "\n",
        "**Challenge:** create a new `volume_estimate` column by apply a function to the `volume` column which replaces values greater than 10000000 with `'high'` and everything else with `'low'`."
      ]
    },
    {
      "cell_type": "code",
      "execution_count": 9,
      "metadata": {
        "colab": {
          "base_uri": "https://localhost:8080/"
        },
        "id": "0sJ9QN_2dDWI",
        "outputId": "6fbf291a-9513-471b-e425-dc426187154f"
      },
      "outputs": [
        {
          "output_type": "stream",
          "name": "stdout",
          "text": [
            "               date       open       high        low      close    volume  \\\n",
            "0      May 16, 1997     1.8650     1.9792     1.7083     1.7292  14700000   \n",
            "1      May 19, 1997     1.7083     1.7708     1.6250     1.7083   6106800   \n",
            "2      May 20, 1997     1.7292     1.7500     1.6358     1.6358   5467200   \n",
            "3      May 21, 1997     1.6042     1.6458     1.3750     1.4275  18853200   \n",
            "4      May 22, 1997     1.4375     1.4483     1.3125     1.3958  11776800   \n",
            "...             ...        ...        ...        ...        ...       ...   \n",
            "5802  June 08, 2020  2500.2000  2530.0000  2487.3400  2524.0600   3957871   \n",
            "5803  June 09, 2020  2529.4400  2626.4300  2525.0000  2600.8600   5175950   \n",
            "5804  June 10, 2020  2645.0000  2722.3500  2626.2600  2647.4500   4913985   \n",
            "5805  June 11, 2020  2603.5000  2671.3800  2536.2300  2557.9600   5753417   \n",
            "5806  June 12, 2020  2601.2100  2621.4800  2503.3500  2545.0200   5436127   \n",
            "\n",
            "       daily_value volume_estimate  \n",
            "0     2.676025e+07            high  \n",
            "1     1.040049e+07             low  \n",
            "2     9.226993e+06             low  \n",
            "3     2.852725e+07            high  \n",
            "4     1.647015e+07            high  \n",
            "...            ...             ...  \n",
            "5802  9.935839e+09             low  \n",
            "5803  1.330443e+10             low  \n",
            "5804  1.307250e+10             low  \n",
            "5805  1.491440e+10             low  \n",
            "5806  1.395870e+10             low  \n",
            "\n",
            "[5807 rows x 8 columns]\n"
          ]
        }
      ],
      "source": [
        "def estimate_volume(volume):\n",
        "  return 'high' if volume > 10000000 else 'low'\n",
        "\n",
        "amzn['volume_estimate'] = amzn['volume'].apply(estimate_volume)\n",
        "print(amzn)"
      ]
    },
    {
      "cell_type": "markdown",
      "metadata": {
        "id": "KFuMvB5CTnAd"
      },
      "source": [
        "## 3B: Summary Statistics"
      ]
    },
    {
      "cell_type": "markdown",
      "metadata": {
        "id": "5xifxUKhTnAf"
      },
      "source": [
        "Previously, we carried out operations to fill each row in a new or existing column with a calculated value. Now we turn our attention to *summary statistics*. These aggregate calculations accross multiple rows within the same column. There are many different types of summary statistics, but common ones are:\n",
        " - `size`: Counts the number of rows in the given column\n",
        " - `count`: Counts the number of rows, excluding NaNs, in the given column\n",
        " - `sum`: Calculates the sum of the values in the given column\n",
        " - `min` and `max`: Calculates the minimum or maximum value in the given column\n",
        " - `mean`, `median`, and `mode`: Calculates the average value in the given column\n",
        " - `std`: Calculates the standard deviation in the given column\n",
        " - `describe`: Many statistics at once\n",
        "\n",
        " Lets look at a few examples:"
      ]
    },
    {
      "cell_type": "markdown",
      "metadata": {
        "id": "LLLMW9oETnAi"
      },
      "source": [
        "Get the mean close price in the `amzn` DataFrame."
      ]
    },
    {
      "cell_type": "code",
      "execution_count": 10,
      "metadata": {
        "colab": {
          "base_uri": "https://localhost:8080/"
        },
        "id": "GnV8htrQTnAk",
        "outputId": "29291f4d-542e-426f-93c5-e1e8355d538b"
      },
      "outputs": [
        {
          "output_type": "stream",
          "name": "stdout",
          "text": [
            "Mean Close Price: 357.8692016015154\n"
          ]
        }
      ],
      "source": [
        "amzn = pd.read_csv('AMZN.csv')\n",
        "mean_close = amzn['close'].mean()\n",
        "print(\"Mean Close Price: \" + str(mean_close))"
      ]
    },
    {
      "cell_type": "markdown",
      "metadata": {
        "id": "n4Ka84iVTnAr"
      },
      "source": [
        "Find the highest and lowest close price."
      ]
    },
    {
      "cell_type": "code",
      "execution_count": 11,
      "metadata": {
        "colab": {
          "base_uri": "https://localhost:8080/"
        },
        "id": "bg0oFlhWTnAr",
        "outputId": "1bdbd5ff-90bb-4448-ba1c-6f2bc1f1f4fd"
      },
      "outputs": [
        {
          "output_type": "stream",
          "name": "stdout",
          "text": [
            "Highest Close Price: 2647.45\n",
            "Lowest Close Price: 1.3958\n"
          ]
        }
      ],
      "source": [
        "highest_close = amzn['close'].max()\n",
        "print(\"Highest Close Price: \" + str(highest_close))\n",
        "\n",
        "lowest_close = amzn['close'].min()\n",
        "print(\"Lowest Close Price: \" + str(lowest_close))"
      ]
    },
    {
      "cell_type": "markdown",
      "metadata": {
        "id": "DJPtaw76TnAv"
      },
      "source": [
        "Find the median value for both the `high` and `low` column. We can calculate summary statistics on more than one column by passing a list of columns."
      ]
    },
    {
      "cell_type": "code",
      "execution_count": 12,
      "metadata": {
        "colab": {
          "base_uri": "https://localhost:8080/"
        },
        "id": "oGrfE1JETnAx",
        "outputId": "b105ef51-6828-44eb-9fc2-3103e4489237"
      },
      "outputs": [
        {
          "output_type": "stream",
          "name": "stdout",
          "text": [
            "high    84.47\n",
            "low     81.00\n",
            "dtype: float64\n"
          ]
        }
      ],
      "source": [
        "median_value = amzn[['high', 'low']].median()\n",
        "print(median_value)"
      ]
    },
    {
      "cell_type": "markdown",
      "metadata": {
        "id": "Zk5DvlBuTnA1"
      },
      "source": [
        "Describe the close prices."
      ]
    },
    {
      "cell_type": "code",
      "execution_count": 13,
      "metadata": {
        "colab": {
          "base_uri": "https://localhost:8080/"
        },
        "id": "LzJmZuDHTnA1",
        "outputId": "a78384c9-1f94-4865-d1da-218edb828eed"
      },
      "outputs": [
        {
          "output_type": "stream",
          "name": "stdout",
          "text": [
            "count    5807.000000\n",
            "mean      357.869202\n",
            "std       553.538559\n",
            "min         1.395800\n",
            "25%        37.835000\n",
            "50%        82.700000\n",
            "75%       352.152000\n",
            "max      2647.450000\n",
            "Name: close, dtype: float64\n"
          ]
        }
      ],
      "source": [
        "described = amzn['close'].describe()\n",
        "print(described)"
      ]
    },
    {
      "cell_type": "markdown",
      "metadata": {
        "id": "l833ta45TnA4"
      },
      "source": [
        "**Challenge:** find the greatest difference in `high` and `low` prices on a given day. Think about the steps you need to perform, and whether the given DataFrame contains all the information we need."
      ]
    },
    {
      "cell_type": "code",
      "execution_count": 14,
      "metadata": {
        "colab": {
          "base_uri": "https://localhost:8080/"
        },
        "id": "OegVlCLxdyy6",
        "outputId": "42dbf22d-294c-481e-f615-e3be661d64e7"
      },
      "outputs": [
        {
          "output_type": "execute_result",
          "data": {
            "text/plain": [
              "170.74"
            ]
          },
          "metadata": {},
          "execution_count": 14
        }
      ],
      "source": [
        "(amzn['high'] - amzn['low']).max()"
      ]
    },
    {
      "cell_type": "markdown",
      "metadata": {
        "id": "aZyxki3ATnA5"
      },
      "source": [
        "### Summary Statistics by Group"
      ]
    },
    {
      "cell_type": "markdown",
      "metadata": {
        "id": "z2SjhVg4TnA5"
      },
      "source": [
        "If we have data from multiple categories in the same DataFrame, we can split it into separate DataFrames and then calculate the summary statistics. Lets look at the DataFrame we create before, with stock prices for Microsoft, Amazon, Google, and Apple."
      ]
    },
    {
      "cell_type": "code",
      "execution_count": 15,
      "metadata": {
        "colab": {
          "base_uri": "https://localhost:8080/"
        },
        "id": "msfhlndqTnA6",
        "outputId": "2cf66bbf-6be4-4e58-f870-70acb4a6a6cd"
      },
      "outputs": [
        {
          "output_type": "stream",
          "name": "stdout",
          "text": [
            "             date       open       high        low      close      volume  \\\n",
            "0      1986-03-13     0.0885     0.1016     0.0885     0.0972  1031788800   \n",
            "1      1986-03-14     0.0972     0.1024     0.0972     0.1007   308160000   \n",
            "2      1986-03-17     0.1007     0.1033     0.1007     0.1024   133171200   \n",
            "3      1986-03-18     0.1024     0.1033     0.0990     0.0998    67766400   \n",
            "4      1986-03-19     0.0998     0.1007     0.0972     0.0981    47894400   \n",
            "...           ...        ...        ...        ...        ...         ...   \n",
            "25960  2020-06-08  1422.3400  1447.9900  1422.3400  1446.6100     1401827   \n",
            "25961  2020-06-09  1445.3600  1468.0000  1443.2100  1456.1600     1409249   \n",
            "25962  2020-06-10  1459.5400  1474.2600  1456.2700  1465.8500     1521378   \n",
            "25963  2020-06-11  1442.4800  1454.4700  1402.0000  1403.8400     1983710   \n",
            "25964  2020-06-12  1428.4900  1437.0000  1386.0200  1413.1800     1946367   \n",
            "\n",
            "       name  \n",
            "0      MSFT  \n",
            "1      MSFT  \n",
            "2      MSFT  \n",
            "3      MSFT  \n",
            "4      MSFT  \n",
            "...     ...  \n",
            "25960  GOOG  \n",
            "25961  GOOG  \n",
            "25962  GOOG  \n",
            "25963  GOOG  \n",
            "25964  GOOG  \n",
            "\n",
            "[25965 rows x 7 columns]\n"
          ]
        }
      ],
      "source": [
        "stock_names = ['MSFT', 'AAPL', 'AMZN', 'GOOG']\n",
        "\n",
        "df = pd.DataFrame()\n",
        "for stock_name in stock_names:\n",
        "    stock_df = pd.read_csv(f'{stock_name}.csv')\n",
        "    stock_df['name'] = stock_name\n",
        "    df = pd.concat([df, stock_df], ignore_index=True)\n",
        "print(df)"
      ]
    },
    {
      "cell_type": "markdown",
      "metadata": {
        "id": "iUGsZULRTnA-"
      },
      "source": [
        "Combining our knowledge of the `groupby` function with our knowledge of summary statistics, we can do the following:"
      ]
    },
    {
      "cell_type": "code",
      "execution_count": 16,
      "metadata": {
        "colab": {
          "base_uri": "https://localhost:8080/"
        },
        "id": "ovBVQ0MkTnBB",
        "outputId": "ceb8c45b-b5a3-46b7-871a-fccac62ef0ad"
      },
      "outputs": [
        {
          "output_type": "stream",
          "name": "stdout",
          "text": [
            "AAPL Avg Trading Volume: 85488428.64624962\n",
            "AMZN Avg Trading Volume: 7512299.565696573\n",
            "GOOG Avg Trading Volume: 1753946.9469648562\n",
            "MSFT Avg Trading Volume: 60234781.231410705\n"
          ]
        }
      ],
      "source": [
        "stocks = df.groupby('name')\n",
        "for stock in stocks.groups.keys():\n",
        "    stock_df = stocks.get_group(stock)\n",
        "    avg_vol = stock_df['volume'].mean()\n",
        "    print(stock + \" Avg Trading Volume: \" + str(avg_vol))"
      ]
    },
    {
      "cell_type": "markdown",
      "metadata": {
        "id": "_LlMU7xlTnBG"
      },
      "source": [
        "Even more simply, we can do `grouped-object['name-of-col'].summary-statistic()`."
      ]
    },
    {
      "cell_type": "code",
      "execution_count": 17,
      "metadata": {
        "colab": {
          "base_uri": "https://localhost:8080/"
        },
        "id": "3jcLBOtBTnBH",
        "outputId": "0ce4fc57-def4-4ca0-efcd-9c2f3e193ae8"
      },
      "outputs": [
        {
          "output_type": "stream",
          "name": "stdout",
          "text": [
            "name\n",
            "AAPL    8.548843e+07\n",
            "AMZN    7.512300e+06\n",
            "GOOG    1.753947e+06\n",
            "MSFT    6.023478e+07\n",
            "Name: volume, dtype: float64\n"
          ]
        }
      ],
      "source": [
        "print(stocks['volume'].mean())"
      ]
    },
    {
      "cell_type": "markdown",
      "metadata": {
        "id": "VivqcEiaTnBL"
      },
      "source": [
        "The key takeaway is that Pandas allows us to easily calculate columns, operate on existing columns, and create summary statistics for columns and groups.\n",
        "\n",
        "**Challenge:** Find the greatest average close price across all four stocks and print out the stock along with it's average close."
      ]
    },
    {
      "cell_type": "code",
      "execution_count": 18,
      "metadata": {
        "colab": {
          "base_uri": "https://localhost:8080/"
        },
        "id": "YKtr-0-ZfaFl",
        "outputId": "9780e90f-9f38-4667-caa7-0f260fa00897"
      },
      "outputs": [
        {
          "output_type": "stream",
          "name": "stdout",
          "text": [
            "GOOG 900.2986702236421\n"
          ]
        }
      ],
      "source": [
        "avg_close = stocks['close'].mean()\n",
        "greatest_stock = avg_close.idxmax()\n",
        "print(greatest_stock, avg_close[greatest_stock])"
      ]
    }
  ],
  "metadata": {
    "colab": {
      "provenance": [],
      "toc_visible": true,
      "include_colab_link": true
    },
    "kernelspec": {
      "display_name": "Python 3 (ipykernel)",
      "language": "python",
      "name": "python3"
    },
    "language_info": {
      "codemirror_mode": {
        "name": "ipython",
        "version": 3
      },
      "file_extension": ".py",
      "mimetype": "text/x-python",
      "name": "python",
      "nbconvert_exporter": "python",
      "pygments_lexer": "ipython3",
      "version": "3.10.0"
    }
  },
  "nbformat": 4,
  "nbformat_minor": 0
}