{
  "nbformat": 4,
  "nbformat_minor": 0,
  "metadata": {
    "colab": {
      "provenance": [],
      "toc_visible": true,
      "include_colab_link": true
    },
    "kernelspec": {
      "name": "python3",
      "display_name": "Python 3"
    }
  },
  "cells": [
    {
      "cell_type": "markdown",
      "metadata": {
        "id": "view-in-github",
        "colab_type": "text"
      },
      "source": [
        "<a href=\"https://colab.research.google.com/github/JustinShawAcademy/DataTalent/blob/main/Organizing_and_Manipulating_NumPy_Arrays.ipynb\" target=\"_parent\"><img src=\"https://colab.research.google.com/assets/colab-badge.svg\" alt=\"Open In Colab\"/></a>"
      ]
    },
    {
      "cell_type": "markdown",
      "metadata": {
        "id": "WGBHjNFvtb63"
      },
      "source": [
        "# Organizing and Manipulating NumPy Arrays\n",
        "\n",
        "In this workshop we will learn how to organize and manipulate our arrays, covering the topics of:\n",
        "\n",
        "- Reshaping arrays and ravelling arrays\n",
        "- Combining and splitting arrays\n",
        "- Copies and views of arrays"
      ]
    },
    {
      "cell_type": "markdown",
      "metadata": {
        "id": "KTa3PBEz3XoT"
      },
      "source": [
        "## Shape Manipulation\n",
        "\n",
        "Sometimes our arrays will have the data that we need but their shape is not convenient for the operation we want to perform. NumPy provides a few important functions to help with this.\n",
        "\n",
        "We can use the `reshape` function to modify the shape of an array."
      ]
    },
    {
      "cell_type": "code",
      "metadata": {
        "id": "MIZ0OvA93pR3",
        "outputId": "67380801-c2e8-4b09-b055-a79b3e08cc2d",
        "colab": {
          "base_uri": "https://localhost:8080/"
        }
      },
      "source": [
        "import numpy as np\n",
        "\n",
        "a = np.arange(0, 6)\n",
        "# a is one dimensional\n",
        "print(a)\n",
        "# a with 2 rows and 3 columns\n",
        "print(a.reshape((2, 3)))\n",
        "# a with 3 rows and 2 columns\n",
        "print(a.reshape((3, 2)))\n",
        "# a with 6 rows and 1 column\n",
        "print(a.reshape((6, 1)))\n",
        "# a with 1 row and 6 columns\n",
        "print(a.reshape((1, 6)))\n",
        "# a with three dimensions\n",
        "print(a.reshape((1, 1, 6)))"
      ],
      "execution_count": null,
      "outputs": [
        {
          "output_type": "stream",
          "name": "stdout",
          "text": [
            "[0 1 2 3 4 5]\n",
            "[[0 1 2]\n",
            " [3 4 5]]\n",
            "[[0 1]\n",
            " [2 3]\n",
            " [4 5]]\n",
            "[[0]\n",
            " [1]\n",
            " [2]\n",
            " [3]\n",
            " [4]\n",
            " [5]]\n",
            "[[0 1 2 3 4 5]]\n",
            "[[[0 1 2 3 4 5]]]\n"
          ]
        }
      ]
    },
    {
      "cell_type": "markdown",
      "metadata": {
        "id": "-sSgkMoD47mI"
      },
      "source": [
        "**Challenge:** Create an array of numbers from 0 up to 50 with 10 rows and 5 columns."
      ]
    },
    {
      "cell_type": "code",
      "metadata": {
        "id": "wdj0pFqi5JTF",
        "outputId": "10003e60-736f-48d9-b502-64727d9f4bd1",
        "colab": {
          "base_uri": "https://localhost:8080/"
        }
      },
      "source": [
        "print(np.arange(0, 50).reshape((10, 5)))"
      ],
      "execution_count": null,
      "outputs": [
        {
          "output_type": "stream",
          "name": "stdout",
          "text": [
            "[[ 0  1  2  3  4]\n",
            " [ 5  6  7  8  9]\n",
            " [10 11 12 13 14]\n",
            " [15 16 17 18 19]\n",
            " [20 21 22 23 24]\n",
            " [25 26 27 28 29]\n",
            " [30 31 32 33 34]\n",
            " [35 36 37 38 39]\n",
            " [40 41 42 43 44]\n",
            " [45 46 47 48 49]]\n"
          ]
        }
      ]
    },
    {
      "cell_type": "markdown",
      "metadata": {
        "id": "vl05oO5N5cy6"
      },
      "source": [
        "We can use the `ravel` method on an array to flatten it.\n"
      ]
    },
    {
      "cell_type": "code",
      "metadata": {
        "id": "gG1JIg17579e",
        "outputId": "e7475340-5329-4e4d-8e43-9b936e647a01",
        "colab": {
          "base_uri": "https://localhost:8080/"
        }
      },
      "source": [
        "a = np.arange(0, 12).reshape((3, 4))\n",
        "print(a)\n",
        "print(a.ravel())\n",
        "# To get back the original shape after ravel we can use reshape\n",
        "print(a.ravel().reshape(a.shape))"
      ],
      "execution_count": null,
      "outputs": [
        {
          "output_type": "stream",
          "name": "stdout",
          "text": [
            "[[ 0  1  2  3]\n",
            " [ 4  5  6  7]\n",
            " [ 8  9 10 11]]\n",
            "[ 0  1  2  3  4  5  6  7  8  9 10 11]\n",
            "[[ 0  1  2  3]\n",
            " [ 4  5  6  7]\n",
            " [ 8  9 10 11]]\n"
          ]
        }
      ]
    },
    {
      "cell_type": "markdown",
      "metadata": {
        "id": "qPHjmzQD57hu"
      },
      "source": [
        "\n",
        "Note that this is not the same as `flat` because `flat` is just an iterator while `ravel` actually creates an array. Iterators only return the elements in a given order which is good for looping and saves memory.\n",
        "\n",
        "In short, use `flat` when you want to loop through the elements of an array, and use `ravel` when you need a flattened version of the array."
      ]
    },
    {
      "cell_type": "code",
      "metadata": {
        "id": "19MUNzjv6jMr",
        "outputId": "b7ddb2d9-9d7a-4c4d-b2d1-b932dedc65a6",
        "colab": {
          "base_uri": "https://localhost:8080/"
        }
      },
      "source": [
        "print(a.ravel())\n",
        "print(a.flat)"
      ],
      "execution_count": null,
      "outputs": [
        {
          "output_type": "stream",
          "name": "stdout",
          "text": [
            "[ 0  1  2  3  4  5  6  7  8  9 10 11]\n",
            "<numpy.flatiter object at 0x38ce9cb0>\n"
          ]
        }
      ]
    },
    {
      "cell_type": "markdown",
      "metadata": {
        "id": "BzpExum06yqk"
      },
      "source": [
        "`reshape` and `ravel` return new arrays and **do not modify the original array**. If you want to modify the original you can use `resize` instead."
      ]
    },
    {
      "cell_type": "code",
      "metadata": {
        "id": "ZLDYzPzE7RY2",
        "outputId": "cc24f871-5328-494d-a62b-474966ee8334",
        "colab": {
          "base_uri": "https://localhost:8080/"
        }
      },
      "source": [
        "a.reshape((4, 3))\n",
        "# Remains the same\n",
        "print(a)"
      ],
      "execution_count": null,
      "outputs": [
        {
          "output_type": "stream",
          "name": "stdout",
          "text": [
            "[[ 0  1  2  3]\n",
            " [ 4  5  6  7]\n",
            " [ 8  9 10 11]]\n"
          ]
        }
      ]
    },
    {
      "cell_type": "code",
      "source": [
        "a.ravel()\n",
        "# Remains the same\n",
        "print(a)"
      ],
      "metadata": {
        "colab": {
          "base_uri": "https://localhost:8080/"
        },
        "id": "ezxxt76tp0ox",
        "outputId": "83eb1a99-c523-4c06-8aef-195fb4b2eab4"
      },
      "execution_count": null,
      "outputs": [
        {
          "output_type": "stream",
          "name": "stdout",
          "text": [
            "[[ 0  1  2  3]\n",
            " [ 4  5  6  7]\n",
            " [ 8  9 10 11]]\n"
          ]
        }
      ]
    },
    {
      "cell_type": "code",
      "source": [
        "a.resize((4, 3))\n",
        "# Modified\n",
        "print(a)"
      ],
      "metadata": {
        "colab": {
          "base_uri": "https://localhost:8080/"
        },
        "id": "Zszmax8Wp14K",
        "outputId": "5bd50311-3e25-4ab2-807b-ef7437153037"
      },
      "execution_count": null,
      "outputs": [
        {
          "output_type": "stream",
          "name": "stdout",
          "text": [
            "[[ 0  1  2]\n",
            " [ 3  4  5]\n",
            " [ 6  7  8]\n",
            " [ 9 10 11]]\n"
          ]
        }
      ]
    },
    {
      "cell_type": "markdown",
      "metadata": {
        "id": "D8TJaOPQ-AxT"
      },
      "source": [
        "If you only care about one of the dimensions when reshaping an array, you can specify `-1` for the other dimension and they will be automatically calculated."
      ]
    },
    {
      "cell_type": "code",
      "metadata": {
        "id": "N9_lo713-Mhm",
        "outputId": "be26bf88-98d0-44e4-8214-7624584d0930",
        "colab": {
          "base_uri": "https://localhost:8080/"
        }
      },
      "source": [
        "# We want 2 rows and it doesn't matter how many columns\n",
        "print(a.reshape(2, -1))"
      ],
      "execution_count": null,
      "outputs": [
        {
          "output_type": "stream",
          "name": "stdout",
          "text": [
            "[[ 0  1  2  3  4  5]\n",
            " [ 6  7  8  9 10 11]]\n"
          ]
        }
      ]
    },
    {
      "cell_type": "code",
      "source": [
        "a2 = np.arange(0, 36)\n",
        "\n",
        "# We want 12 columns and it doesn't matter how many rows\n",
        "print(a2.reshape(-1, 12))\n",
        "\n",
        "print('---')\n",
        "# We want a list of arrays of shape (4, 3), we don't care how many arrays\n",
        "print(a2.reshape(-1, 4, 3))"
      ],
      "metadata": {
        "colab": {
          "base_uri": "https://localhost:8080/"
        },
        "id": "58cgzE50p6_x",
        "outputId": "98d8ece3-e577-4845-befa-a32a4ece6484"
      },
      "execution_count": null,
      "outputs": [
        {
          "output_type": "stream",
          "name": "stdout",
          "text": [
            "[[ 0  1  2  3  4  5  6  7  8  9 10 11]\n",
            " [12 13 14 15 16 17 18 19 20 21 22 23]\n",
            " [24 25 26 27 28 29 30 31 32 33 34 35]]\n",
            "---\n",
            "[[[ 0  1  2]\n",
            "  [ 3  4  5]\n",
            "  [ 6  7  8]\n",
            "  [ 9 10 11]]\n",
            "\n",
            " [[12 13 14]\n",
            "  [15 16 17]\n",
            "  [18 19 20]\n",
            "  [21 22 23]]\n",
            "\n",
            " [[24 25 26]\n",
            "  [27 28 29]\n",
            "  [30 31 32]\n",
            "  [33 34 35]]]\n"
          ]
        }
      ]
    },
    {
      "cell_type": "markdown",
      "metadata": {
        "id": "mB8OjjrvlJfO"
      },
      "source": [
        "You can also *transpose* an array, which means making the columns into the rows and the rows into the columns. When you transpose an array of size `(m, n)`, you will get an array of size `(n, m)`."
      ]
    },
    {
      "cell_type": "code",
      "metadata": {
        "id": "iSk0RwfhlogL",
        "outputId": "92985181-3512-4a96-a3d9-22c215934168",
        "colab": {
          "base_uri": "https://localhost:8080/"
        }
      },
      "source": [
        "a2 = np.arange(0, 36).reshape(4, 9)\n",
        "print(a2)"
      ],
      "execution_count": null,
      "outputs": [
        {
          "output_type": "stream",
          "name": "stdout",
          "text": [
            "[[ 0  1  2  3  4  5  6  7  8]\n",
            " [ 9 10 11 12 13 14 15 16 17]\n",
            " [18 19 20 21 22 23 24 25 26]\n",
            " [27 28 29 30 31 32 33 34 35]]\n"
          ]
        }
      ]
    },
    {
      "cell_type": "code",
      "source": [
        "a2t = a2.T\n",
        "# Notice how each row becomes a column at the position of that row,\n",
        "# and in the process each column becomes a row (or you can look at it the other way around)\n",
        "print(a2t)"
      ],
      "metadata": {
        "colab": {
          "base_uri": "https://localhost:8080/"
        },
        "id": "lqcdS1QprIUd",
        "outputId": "ad46ad79-7596-40d2-c327-42d519bac271"
      },
      "execution_count": null,
      "outputs": [
        {
          "output_type": "stream",
          "name": "stdout",
          "text": [
            "[[ 0  9 18 27]\n",
            " [ 1 10 19 28]\n",
            " [ 2 11 20 29]\n",
            " [ 3 12 21 30]\n",
            " [ 4 13 22 31]\n",
            " [ 5 14 23 32]\n",
            " [ 6 15 24 33]\n",
            " [ 7 16 25 34]\n",
            " [ 8 17 26 35]]\n"
          ]
        }
      ]
    },
    {
      "cell_type": "code",
      "source": [
        "print(a2.shape)\n",
        "print(a2t.shape)"
      ],
      "metadata": {
        "colab": {
          "base_uri": "https://localhost:8080/"
        },
        "id": "hoBRleT0rNgf",
        "outputId": "fc2be4d3-5c72-41b0-d2bd-156fbe5bd6e7"
      },
      "execution_count": null,
      "outputs": [
        {
          "output_type": "stream",
          "name": "stdout",
          "text": [
            "(4, 9)\n",
            "(9, 4)\n"
          ]
        }
      ]
    },
    {
      "cell_type": "markdown",
      "metadata": {
        "id": "hTIHLvV6_ZR8"
      },
      "source": [
        "**Challenge:** Create an array of ones of shape (5, 6, 7), update it so its flattened, then return it to its original shape.\n",
        "\n",
        "**Bonus challenge:** Explain the shape of the array."
      ]
    },
    {
      "cell_type": "code",
      "metadata": {
        "id": "Ql4A8hxy_02T",
        "outputId": "c066feb7-9185-48c8-f211-bad74b53b7a0",
        "colab": {
          "base_uri": "https://localhost:8080/"
        }
      },
      "source": [
        "ones = np.ones((5,6,7))\n",
        "ones = ones.ravel()\n",
        "print(ones)\n",
        "ones = ones.reshape((5,6,7))\n",
        "print(ones)"
      ],
      "execution_count": null,
      "outputs": [
        {
          "output_type": "stream",
          "name": "stdout",
          "text": [
            "[1. 1. 1. 1. 1. 1. 1. 1. 1. 1. 1. 1. 1. 1. 1. 1. 1. 1. 1. 1. 1. 1. 1. 1.\n",
            " 1. 1. 1. 1. 1. 1. 1. 1. 1. 1. 1. 1. 1. 1. 1. 1. 1. 1. 1. 1. 1. 1. 1. 1.\n",
            " 1. 1. 1. 1. 1. 1. 1. 1. 1. 1. 1. 1. 1. 1. 1. 1. 1. 1. 1. 1. 1. 1. 1. 1.\n",
            " 1. 1. 1. 1. 1. 1. 1. 1. 1. 1. 1. 1. 1. 1. 1. 1. 1. 1. 1. 1. 1. 1. 1. 1.\n",
            " 1. 1. 1. 1. 1. 1. 1. 1. 1. 1. 1. 1. 1. 1. 1. 1. 1. 1. 1. 1. 1. 1. 1. 1.\n",
            " 1. 1. 1. 1. 1. 1. 1. 1. 1. 1. 1. 1. 1. 1. 1. 1. 1. 1. 1. 1. 1. 1. 1. 1.\n",
            " 1. 1. 1. 1. 1. 1. 1. 1. 1. 1. 1. 1. 1. 1. 1. 1. 1. 1. 1. 1. 1. 1. 1. 1.\n",
            " 1. 1. 1. 1. 1. 1. 1. 1. 1. 1. 1. 1. 1. 1. 1. 1. 1. 1. 1. 1. 1. 1. 1. 1.\n",
            " 1. 1. 1. 1. 1. 1. 1. 1. 1. 1. 1. 1. 1. 1. 1. 1. 1. 1.]\n",
            "[[[1. 1. 1. 1. 1. 1. 1.]\n",
            "  [1. 1. 1. 1. 1. 1. 1.]\n",
            "  [1. 1. 1. 1. 1. 1. 1.]\n",
            "  [1. 1. 1. 1. 1. 1. 1.]\n",
            "  [1. 1. 1. 1. 1. 1. 1.]\n",
            "  [1. 1. 1. 1. 1. 1. 1.]]\n",
            "\n",
            " [[1. 1. 1. 1. 1. 1. 1.]\n",
            "  [1. 1. 1. 1. 1. 1. 1.]\n",
            "  [1. 1. 1. 1. 1. 1. 1.]\n",
            "  [1. 1. 1. 1. 1. 1. 1.]\n",
            "  [1. 1. 1. 1. 1. 1. 1.]\n",
            "  [1. 1. 1. 1. 1. 1. 1.]]\n",
            "\n",
            " [[1. 1. 1. 1. 1. 1. 1.]\n",
            "  [1. 1. 1. 1. 1. 1. 1.]\n",
            "  [1. 1. 1. 1. 1. 1. 1.]\n",
            "  [1. 1. 1. 1. 1. 1. 1.]\n",
            "  [1. 1. 1. 1. 1. 1. 1.]\n",
            "  [1. 1. 1. 1. 1. 1. 1.]]\n",
            "\n",
            " [[1. 1. 1. 1. 1. 1. 1.]\n",
            "  [1. 1. 1. 1. 1. 1. 1.]\n",
            "  [1. 1. 1. 1. 1. 1. 1.]\n",
            "  [1. 1. 1. 1. 1. 1. 1.]\n",
            "  [1. 1. 1. 1. 1. 1. 1.]\n",
            "  [1. 1. 1. 1. 1. 1. 1.]]\n",
            "\n",
            " [[1. 1. 1. 1. 1. 1. 1.]\n",
            "  [1. 1. 1. 1. 1. 1. 1.]\n",
            "  [1. 1. 1. 1. 1. 1. 1.]\n",
            "  [1. 1. 1. 1. 1. 1. 1.]\n",
            "  [1. 1. 1. 1. 1. 1. 1.]\n",
            "  [1. 1. 1. 1. 1. 1. 1.]]]\n"
          ]
        }
      ]
    },
    {
      "cell_type": "markdown",
      "metadata": {
        "id": "Pln05WgOn74-"
      },
      "source": [
        "## Stacking and Splitting Arrays\n",
        "\n",
        "It is sometimes useful to join arrays together or split them apart, for example if we have data split across two different tables."
      ]
    },
    {
      "cell_type": "markdown",
      "metadata": {
        "id": "Ssi_0fprqFO-"
      },
      "source": [
        "`hstack` and `vstack` allow us to 'stack' arrays along different axes."
      ]
    },
    {
      "cell_type": "code",
      "metadata": {
        "id": "BHs2o9YVqNIl",
        "outputId": "5106e682-b5c3-4155-c1ba-1e18d316da35",
        "colab": {
          "base_uri": "https://localhost:8080/"
        }
      },
      "source": [
        "a = np.arange(0, 12).reshape((3, 4))\n",
        "b = np.arange(12, 24).reshape((3, 4))\n",
        "print(a)\n",
        "print(b)"
      ],
      "execution_count": null,
      "outputs": [
        {
          "output_type": "stream",
          "name": "stdout",
          "text": [
            "[[ 0  1  2  3]\n",
            " [ 4  5  6  7]\n",
            " [ 8  9 10 11]]\n",
            "[[12 13 14 15]\n",
            " [16 17 18 19]\n",
            " [20 21 22 23]]\n"
          ]
        }
      ]
    },
    {
      "cell_type": "markdown",
      "metadata": {
        "id": "9lVdSUBdqnCC"
      },
      "source": [
        "To stack these along the first axes, or along the rows, we can use `vstack`. Stacking along the rows means each row in each array becomes a row in the resulting array. The order of the rows are determined by the order the arrays are passed in."
      ]
    },
    {
      "cell_type": "code",
      "metadata": {
        "id": "QnMYt17wqxq6",
        "outputId": "76afedaf-0633-4d7a-d7fc-96701bf8c603",
        "colab": {
          "base_uri": "https://localhost:8080/"
        }
      },
      "source": [
        "vstack = np.vstack((a, b))\n",
        "print(vstack)\n",
        "print(vstack.shape)"
      ],
      "execution_count": null,
      "outputs": [
        {
          "output_type": "stream",
          "name": "stdout",
          "text": [
            "[[ 0  1  2  3]\n",
            " [ 4  5  6  7]\n",
            " [ 8  9 10 11]\n",
            " [12 13 14 15]\n",
            " [16 17 18 19]\n",
            " [20 21 22 23]]\n",
            "(6, 4)\n"
          ]
        }
      ]
    },
    {
      "cell_type": "markdown",
      "metadata": {
        "id": "C0x93u-1rUWs"
      },
      "source": [
        "To stack these along the second axes, or along the columns, we can use `hstack`. Stacking along the columns means each column in each array becomes a column in the resulting array. The order of the columns are determined by the order the arrays are passed in."
      ]
    },
    {
      "cell_type": "code",
      "metadata": {
        "id": "eH6ClMc2rjcS",
        "outputId": "ea681a5d-0dfc-453f-86d1-6ff7e5255091",
        "colab": {
          "base_uri": "https://localhost:8080/"
        }
      },
      "source": [
        "hstack = np.hstack((a, b))\n",
        "print(hstack)\n",
        "print(hstack.shape)"
      ],
      "execution_count": null,
      "outputs": [
        {
          "output_type": "stream",
          "name": "stdout",
          "text": [
            "[[ 0  1  2  3 12 13 14 15]\n",
            " [ 4  5  6  7 16 17 18 19]\n",
            " [ 8  9 10 11 20 21 22 23]]\n",
            "(3, 8)\n"
          ]
        }
      ]
    },
    {
      "cell_type": "markdown",
      "metadata": {
        "id": "1yC_lfChs7v1"
      },
      "source": [
        "These also work as you would expect for simpler 1D arrays."
      ]
    },
    {
      "cell_type": "code",
      "metadata": {
        "id": "QpjI0zjitA5O",
        "outputId": "6878050e-0c19-43f0-f2ea-48c3790a7e62",
        "colab": {
          "base_uri": "https://localhost:8080/"
        }
      },
      "source": [
        "a1 = np.array([1, 2, 3])\n",
        "b1 = np.array([4, 5, 6])\n",
        "print(np.vstack((a1, b1)))\n",
        "# In this case, this one is basically the same as Python's extend\n",
        "print(np.hstack((a1, b1)))"
      ],
      "execution_count": null,
      "outputs": [
        {
          "output_type": "stream",
          "name": "stdout",
          "text": [
            "[[1 2 3]\n",
            " [4 5 6]]\n",
            "[1 2 3 4 5 6]\n"
          ]
        }
      ]
    },
    {
      "cell_type": "markdown",
      "metadata": {
        "id": "aBtEnzwBthOX"
      },
      "source": [
        "Another function called `column_stack` takes 1D arrays and stacks them as columns into a 2D array. This can be useful for building a table from columns stored as 1D arrays."
      ]
    },
    {
      "cell_type": "code",
      "metadata": {
        "id": "B94xAOoQtw0J",
        "outputId": "3148579e-97cf-4fdd-8fb7-96c68c5584be",
        "colab": {
          "base_uri": "https://localhost:8080/"
        }
      },
      "source": [
        "print(np.column_stack((a1, b1)))"
      ],
      "execution_count": null,
      "outputs": [
        {
          "output_type": "stream",
          "name": "stdout",
          "text": [
            "[[1 4]\n",
            " [2 5]\n",
            " [3 6]]\n"
          ]
        }
      ]
    },
    {
      "cell_type": "markdown",
      "metadata": {
        "id": "e08yV7p7unAl"
      },
      "source": [
        "Another useful trick to add axes to an array is to use `np.newaxis`."
      ]
    },
    {
      "cell_type": "code",
      "metadata": {
        "id": "yLHN5AZvu4V5",
        "outputId": "26c1364d-c47a-4540-95b6-d4ca45852cd1",
        "colab": {
          "base_uri": "https://localhost:8080/"
        }
      },
      "source": [
        "print(a1[:, np.newaxis])\n",
        "print(b1[:, np.newaxis])"
      ],
      "execution_count": null,
      "outputs": [
        {
          "output_type": "stream",
          "name": "stdout",
          "text": [
            "[[1]\n",
            " [2]\n",
            " [3]]\n",
            "[[4]\n",
            " [5]\n",
            " [6]]\n"
          ]
        }
      ]
    },
    {
      "cell_type": "markdown",
      "metadata": {
        "id": "B1V6Wwk7vT8e"
      },
      "source": [
        "For 1D arrays, `column_stack` effectively just adds a new axis like this, then `hstack`s the results together."
      ]
    },
    {
      "cell_type": "code",
      "metadata": {
        "id": "5rlMzs1cvbzx",
        "outputId": "f26c1ac8-3e22-4365-b659-5c6f83d32238",
        "colab": {
          "base_uri": "https://localhost:8080/"
        }
      },
      "source": [
        "print(np.column_stack((a1, b1)))\n",
        "print(np.hstack((a1[:,np.newaxis], b1[:,np.newaxis])))"
      ],
      "execution_count": null,
      "outputs": [
        {
          "output_type": "stream",
          "name": "stdout",
          "text": [
            "[[1 4]\n",
            " [2 5]\n",
            " [3 6]]\n",
            "[[1 4]\n",
            " [2 5]\n",
            " [3 6]]\n"
          ]
        }
      ]
    },
    {
      "cell_type": "markdown",
      "metadata": {
        "id": "2e1gXl-wwA1V"
      },
      "source": [
        "`concatenate` allows for stacking along any axis via its `axis` parameter. This can be useful if you have more than two axes in your arrays."
      ]
    },
    {
      "cell_type": "code",
      "metadata": {
        "id": "_OK-FckvwVBY",
        "outputId": "62c750de-9189-40d9-bf19-3e6e9f1ab707",
        "colab": {
          "base_uri": "https://localhost:8080/"
        }
      },
      "source": [
        "a3 = a.reshape((-1, 3, 2))\n",
        "b3 = b.reshape((-1, 3, 2))\n",
        "\n",
        "print(a3)\n",
        "print('------')\n",
        "print(b3)"
      ],
      "execution_count": null,
      "outputs": [
        {
          "output_type": "stream",
          "name": "stdout",
          "text": [
            "[[[ 0  1]\n",
            "  [ 2  3]\n",
            "  [ 4  5]]\n",
            "\n",
            " [[ 6  7]\n",
            "  [ 8  9]\n",
            "  [10 11]]]\n",
            "------\n",
            "[[[12 13]\n",
            "  [14 15]\n",
            "  [16 17]]\n",
            "\n",
            " [[18 19]\n",
            "  [20 21]\n",
            "  [22 23]]]\n"
          ]
        }
      ]
    },
    {
      "cell_type": "markdown",
      "metadata": {
        "id": "iMWDx5FkxbOj"
      },
      "source": [
        "We can concatenate along the rows **containing** the inner arrays."
      ]
    },
    {
      "cell_type": "code",
      "metadata": {
        "id": "YjaJTxKBxEl8",
        "outputId": "a0acb445-272b-47e7-bbfb-6397a6c904c6",
        "colab": {
          "base_uri": "https://localhost:8080/"
        }
      },
      "source": [
        "print(np.concatenate((a3, b3), axis=0))"
      ],
      "execution_count": null,
      "outputs": [
        {
          "output_type": "stream",
          "name": "stdout",
          "text": [
            "[[[ 0  1]\n",
            "  [ 2  3]\n",
            "  [ 4  5]]\n",
            "\n",
            " [[ 6  7]\n",
            "  [ 8  9]\n",
            "  [10 11]]\n",
            "\n",
            " [[12 13]\n",
            "  [14 15]\n",
            "  [16 17]]\n",
            "\n",
            " [[18 19]\n",
            "  [20 21]\n",
            "  [22 23]]]\n"
          ]
        }
      ]
    },
    {
      "cell_type": "markdown",
      "metadata": {
        "id": "EF9oi3xuxhCV"
      },
      "source": [
        "We can concatenate along the rows **within** the inner arrays."
      ]
    },
    {
      "cell_type": "code",
      "metadata": {
        "id": "zaxNFqv6xF3u",
        "outputId": "7849016f-ab8f-4f1a-d362-ab7db16139e6",
        "colab": {
          "base_uri": "https://localhost:8080/"
        }
      },
      "source": [
        "print(np.concatenate((a3, b3), axis=1))"
      ],
      "execution_count": null,
      "outputs": [
        {
          "output_type": "stream",
          "name": "stdout",
          "text": [
            "[[[ 0  1]\n",
            "  [ 2  3]\n",
            "  [ 4  5]\n",
            "  [12 13]\n",
            "  [14 15]\n",
            "  [16 17]]\n",
            "\n",
            " [[ 6  7]\n",
            "  [ 8  9]\n",
            "  [10 11]\n",
            "  [18 19]\n",
            "  [20 21]\n",
            "  [22 23]]]\n"
          ]
        }
      ]
    },
    {
      "cell_type": "markdown",
      "metadata": {
        "id": "22-Jegt3xmXJ"
      },
      "source": [
        "We can concatenate along the columns **within** the inner arrays."
      ]
    },
    {
      "cell_type": "code",
      "metadata": {
        "id": "3B221mpGxP33",
        "outputId": "cc0721cf-afbd-4b7e-e36b-51c62e86bacd",
        "colab": {
          "base_uri": "https://localhost:8080/"
        }
      },
      "source": [
        "print(np.concatenate((a3, b3), axis=2))"
      ],
      "execution_count": null,
      "outputs": [
        {
          "output_type": "stream",
          "name": "stdout",
          "text": [
            "[[[ 0  1 12 13]\n",
            "  [ 2  3 14 15]\n",
            "  [ 4  5 16 17]]\n",
            "\n",
            " [[ 6  7 18 19]\n",
            "  [ 8  9 20 21]\n",
            "  [10 11 22 23]]]\n"
          ]
        }
      ]
    },
    {
      "cell_type": "markdown",
      "metadata": {
        "id": "n0LhSlA7ybPK"
      },
      "source": [
        "The `r_` and `c_` objects allow for greater flexibility in building up arrays and allow us to build arrays using ranges. `r_` stacks along the rows and `c_` stacks along the columns."
      ]
    },
    {
      "cell_type": "code",
      "metadata": {
        "id": "tu80zutOymxE",
        "outputId": "cf5632ea-cd66-4fc7-b886-69baf0610498",
        "colab": {
          "base_uri": "https://localhost:8080/"
        }
      },
      "source": [
        "print(np.r_[1:4, 0, 4])\n",
        "print(np.c_[1:4, 4:7])\n",
        "c = np.c_[24:27, 28:31, 32:35, 36:39]\n",
        "print(c)\n",
        "print(np.r_[a, b, c])\n",
        "print(np.c_[a, b, c])"
      ],
      "execution_count": null,
      "outputs": [
        {
          "output_type": "stream",
          "name": "stdout",
          "text": [
            "[1 2 3 0 4]\n",
            "[[1 4]\n",
            " [2 5]\n",
            " [3 6]]\n",
            "[[24 28 32 36]\n",
            " [25 29 33 37]\n",
            " [26 30 34 38]]\n",
            "[[ 0  1  2  3]\n",
            " [ 4  5  6  7]\n",
            " [ 8  9 10 11]\n",
            " [12 13 14 15]\n",
            " [16 17 18 19]\n",
            " [20 21 22 23]\n",
            " [24 28 32 36]\n",
            " [25 29 33 37]\n",
            " [26 30 34 38]]\n",
            "[[ 0  1  2  3 12 13 14 15 24 28 32 36]\n",
            " [ 4  5  6  7 16 17 18 19 25 29 33 37]\n",
            " [ 8  9 10 11 20 21 22 23 26 30 34 38]]\n"
          ]
        }
      ]
    },
    {
      "cell_type": "markdown",
      "metadata": {
        "id": "a8txqf8m27Wz"
      },
      "source": [
        "We can use `hsplit` and `vsplit` to split an array either into `n` equally sized arrays, or to split it at a specified point."
      ]
    },
    {
      "cell_type": "code",
      "metadata": {
        "id": "F8dOjmo83Mtr",
        "outputId": "bee8a3c6-ce65-42a2-8d2e-a089b1694746",
        "colab": {
          "base_uri": "https://localhost:8080/"
        }
      },
      "source": [
        "a2 = np.c_[a, b, c]\n",
        "print(a2)"
      ],
      "execution_count": null,
      "outputs": [
        {
          "output_type": "stream",
          "name": "stdout",
          "text": [
            "[[ 0  1  2  3 12 13 14 15 24 28 32 36]\n",
            " [ 4  5  6  7 16 17 18 19 25 29 33 37]\n",
            " [ 8  9 10 11 20 21 22 23 26 30 34 38]]\n"
          ]
        }
      ]
    },
    {
      "cell_type": "code",
      "metadata": {
        "id": "ZedfaSfO33Cu",
        "outputId": "9f99b862-944e-4f34-d442-0e4c99584a93",
        "colab": {
          "base_uri": "https://localhost:8080/"
        }
      },
      "source": [
        "# Split it horizonatally into 3 parts\n",
        "splits = np.hsplit(a2, 3)\n",
        "for split in splits:\n",
        "    print(split)"
      ],
      "execution_count": null,
      "outputs": [
        {
          "output_type": "stream",
          "name": "stdout",
          "text": [
            "[[ 0  1  2  3]\n",
            " [ 4  5  6  7]\n",
            " [ 8  9 10 11]]\n",
            "[[12 13 14 15]\n",
            " [16 17 18 19]\n",
            " [20 21 22 23]]\n",
            "[[24 28 32 36]\n",
            " [25 29 33 37]\n",
            " [26 30 34 38]]\n"
          ]
        }
      ]
    },
    {
      "cell_type": "code",
      "metadata": {
        "id": "lHwF4tQR3vhF",
        "outputId": "8324a8b1-b5fa-4eea-f0cf-225dc232f9da",
        "colab": {
          "base_uri": "https://localhost:8080/"
        }
      },
      "source": [
        "# Split it vertically into 3 parts\n",
        "splits = np.vsplit(a2, 3)\n",
        "for split in splits:\n",
        "    print(split)"
      ],
      "execution_count": null,
      "outputs": [
        {
          "output_type": "stream",
          "name": "stdout",
          "text": [
            "[[ 0  1  2  3 12 13 14 15 24 28 32 36]]\n",
            "[[ 4  5  6  7 16 17 18 19 25 29 33 37]]\n",
            "[[ 8  9 10 11 20 21 22 23 26 30 34 38]]\n"
          ]
        }
      ]
    },
    {
      "cell_type": "code",
      "metadata": {
        "id": "b4pCtCXr4IIB",
        "outputId": "c0ba318b-574b-42c8-eb41-c774c519ee1b",
        "colab": {
          "base_uri": "https://localhost:8080/"
        }
      },
      "source": [
        "# Split after the third and tenth columns\n",
        "splits = np.hsplit(a2, (3, 10))\n",
        "for split in splits:\n",
        "    print(split)"
      ],
      "execution_count": null,
      "outputs": [
        {
          "output_type": "stream",
          "name": "stdout",
          "text": [
            "[[ 0  1  2]\n",
            " [ 4  5  6]\n",
            " [ 8  9 10]]\n",
            "[[ 3 12 13 14 15 24 28]\n",
            " [ 7 16 17 18 19 25 29]\n",
            " [11 20 21 22 23 26 30]]\n",
            "[[32 36]\n",
            " [33 37]\n",
            " [34 38]]\n"
          ]
        }
      ]
    },
    {
      "cell_type": "code",
      "metadata": {
        "id": "4MD43LpT4dym",
        "outputId": "f570c39d-428c-4146-c482-7b74f3db9830",
        "colab": {
          "base_uri": "https://localhost:8080/"
        }
      },
      "source": [
        "print(a2.T)\n",
        "# Split after the fifth and seventh rows\n",
        "splits = np.vsplit(a2.T, (5, 7))\n",
        "for split in splits:\n",
        "    print(split)"
      ],
      "execution_count": null,
      "outputs": [
        {
          "output_type": "stream",
          "name": "stdout",
          "text": [
            "[[ 0  4  8]\n",
            " [ 1  5  9]\n",
            " [ 2  6 10]\n",
            " [ 3  7 11]\n",
            " [12 16 20]\n",
            " [13 17 21]\n",
            " [14 18 22]\n",
            " [15 19 23]\n",
            " [24 25 26]\n",
            " [28 29 30]\n",
            " [32 33 34]\n",
            " [36 37 38]]\n",
            "[[ 0  4  8]\n",
            " [ 1  5  9]\n",
            " [ 2  6 10]\n",
            " [ 3  7 11]\n",
            " [12 16 20]]\n",
            "[[13 17 21]\n",
            " [14 18 22]]\n",
            "[[15 19 23]\n",
            " [24 25 26]\n",
            " [28 29 30]\n",
            " [32 33 34]\n",
            " [36 37 38]]\n"
          ]
        }
      ]
    },
    {
      "cell_type": "markdown",
      "metadata": {
        "id": "m_nOD7Du4xNR"
      },
      "source": [
        "To split along any axis you can use `array_split`."
      ]
    },
    {
      "cell_type": "markdown",
      "metadata": {
        "id": "iWwuQu5c5LKX"
      },
      "source": [
        "**Challenge:** This is a multi-step challenge\n",
        "\n",
        "1. Create an array with values ranging from 1 to 30 in two different ways\n",
        "2. Reshape the arrays to have a shape of (3, 10)\n",
        "3. Split the array into 3 different parts in any way you choose\n",
        "4. Join the array parts back together to get back the array with shape (3, 10)"
      ]
    },
    {
      "cell_type": "code",
      "metadata": {
        "id": "C1dOk2055W98",
        "outputId": "fb911826-ae22-4f01-af7a-58ca0d3ec616",
        "colab": {
          "base_uri": "https://localhost:8080/"
        }
      },
      "source": [
        "mya = np.arange(1, 31)\n",
        "print(mya)\n",
        "mya = np.r_[1:31]\n",
        "print(mya)\n",
        "\n",
        "mya = mya.reshape((3, 10))\n",
        "print(mya)\n",
        "\n",
        "mya = np.hsplit(mya, (3, 6))\n",
        "print(mya)\n",
        "mya = np.hstack(mya)\n",
        "print(mya)"
      ],
      "execution_count": null,
      "outputs": [
        {
          "output_type": "stream",
          "name": "stdout",
          "text": [
            "[ 1  2  3  4  5  6  7  8  9 10 11 12 13 14 15 16 17 18 19 20 21 22 23 24\n",
            " 25 26 27 28 29 30]\n",
            "[ 1  2  3  4  5  6  7  8  9 10 11 12 13 14 15 16 17 18 19 20 21 22 23 24\n",
            " 25 26 27 28 29 30]\n",
            "[[ 1  2  3  4  5  6  7  8  9 10]\n",
            " [11 12 13 14 15 16 17 18 19 20]\n",
            " [21 22 23 24 25 26 27 28 29 30]]\n",
            "[array([[ 1,  2,  3],\n",
            "       [11, 12, 13],\n",
            "       [21, 22, 23]]), array([[ 4,  5,  6],\n",
            "       [14, 15, 16],\n",
            "       [24, 25, 26]]), array([[ 7,  8,  9, 10],\n",
            "       [17, 18, 19, 20],\n",
            "       [27, 28, 29, 30]])]\n",
            "[[ 1  2  3  4  5  6  7  8  9 10]\n",
            " [11 12 13 14 15 16 17 18 19 20]\n",
            " [21 22 23 24 25 26 27 28 29 30]]\n"
          ]
        }
      ]
    },
    {
      "cell_type": "markdown",
      "metadata": {
        "id": "vBdqgiOx43o0"
      },
      "source": [
        "## Copies and Views\n",
        "\n",
        "When working with arrays, their data is sometimes copied and sometimes it isn't. It is important to understand this distinction and when copying occurs so that you don't unexpectedly mutate arrays."
      ]
    },
    {
      "cell_type": "markdown",
      "metadata": {
        "id": "BHa5CgHP8Mah"
      },
      "source": [
        "When you assign an array to a variable **no copying occurs**. This means that manipulating the variable will manipulate the original array."
      ]
    },
    {
      "cell_type": "code",
      "metadata": {
        "id": "84QEO7gT5A9Q",
        "outputId": "9c76f1be-b7f2-4f63-acaa-3fbd5e24a394",
        "colab": {
          "base_uri": "https://localhost:8080/"
        }
      },
      "source": [
        "a = np.array([[ 0,  1,  2,  3],\n",
        "              [ 4,  5,  6,  7],\n",
        "              [ 8,  9, 10, 11]])\n",
        "b = a # no new object is created\n",
        "print(b is a) # a and b are two names for the same ndarray object\n",
        "b.resize((4, 3))\n",
        "print(b)\n",
        "print('---')\n",
        "print(a) # a is mutated along with b\n",
        "print('---')\n",
        "print(a.shape, b.shape)"
      ],
      "execution_count": null,
      "outputs": [
        {
          "output_type": "stream",
          "name": "stdout",
          "text": [
            "True\n",
            "[[ 0  1  2]\n",
            " [ 3  4  5]\n",
            " [ 6  7  8]\n",
            " [ 9 10 11]]\n",
            "---\n",
            "[[ 0  1  2]\n",
            " [ 3  4  5]\n",
            " [ 6  7  8]\n",
            " [ 9 10 11]]\n",
            "---\n",
            "(4, 3) (4, 3)\n"
          ]
        }
      ]
    },
    {
      "cell_type": "markdown",
      "metadata": {
        "id": "vyVwAA_c9ADr"
      },
      "source": [
        "Different arrays can share the same data using the `view` method. This means that changing the data of the 'view' object will change the data in the original, but changing other properties, such as the `shape`, will not change anything about the original."
      ]
    },
    {
      "cell_type": "code",
      "metadata": {
        "id": "2kbLwlvl9GkD",
        "outputId": "52a6728c-be53-49f0-d757-97d7062a6782",
        "colab": {
          "base_uri": "https://localhost:8080/"
        }
      },
      "source": [
        "c = a.view()\n",
        "print(c is a)"
      ],
      "execution_count": null,
      "outputs": [
        {
          "output_type": "stream",
          "name": "stdout",
          "text": [
            "False\n"
          ]
        }
      ]
    },
    {
      "cell_type": "code",
      "source": [
        "c = c.reshape((2, 6)) # a's shape doesn't change\n",
        "print(a.shape)"
      ],
      "metadata": {
        "colab": {
          "base_uri": "https://localhost:8080/"
        },
        "id": "_fhfqKzEx1_6",
        "outputId": "5ee9512c-f075-4b05-d12a-62ac1b9a9924"
      },
      "execution_count": null,
      "outputs": [
        {
          "output_type": "stream",
          "name": "stdout",
          "text": [
            "(4, 3)\n"
          ]
        }
      ]
    },
    {
      "cell_type": "code",
      "source": [
        "print(c, c.shape)"
      ],
      "metadata": {
        "colab": {
          "base_uri": "https://localhost:8080/"
        },
        "id": "sIhnaGT6yVho",
        "outputId": "b2956f6b-cd47-41a4-e6de-f937f5e41141"
      },
      "execution_count": null,
      "outputs": [
        {
          "output_type": "stream",
          "name": "stdout",
          "text": [
            "[[ 0  1  2  3  4  5]\n",
            " [ 6  7  8  9 10 11]] (2, 6)\n"
          ]
        }
      ]
    },
    {
      "cell_type": "code",
      "source": [
        "# Here we update the value in the first row and the fifth column, which is\n",
        "# effectively the fifth value in the array (reading from left to right, top to bottom)\n",
        "c[0, 4] = 1234 # a's data changes\n",
        "# Therefore the fifth value in a's data is also updated\n",
        "print(a)"
      ],
      "metadata": {
        "colab": {
          "base_uri": "https://localhost:8080/"
        },
        "id": "LrhIPzskx0Qe",
        "outputId": "f09d3ba9-6551-4dd0-cefd-97c1176cae4d"
      },
      "execution_count": null,
      "outputs": [
        {
          "output_type": "stream",
          "name": "stdout",
          "text": [
            "[[   0    1    2]\n",
            " [   3 1234    5]\n",
            " [   6    7    8]\n",
            " [   9   10   11]]\n"
          ]
        }
      ]
    },
    {
      "cell_type": "code",
      "source": [
        "# We can see the relationship between the data with ravel\n",
        "print(c.ravel())\n",
        "print(a.ravel())"
      ],
      "metadata": {
        "colab": {
          "base_uri": "https://localhost:8080/"
        },
        "id": "Mj1udPXM_m_P",
        "outputId": "58f08980-88e6-4221-d6af-a1d4964591ff"
      },
      "execution_count": null,
      "outputs": [
        {
          "output_type": "stream",
          "name": "stdout",
          "text": [
            "[   0    1    2    3 1234    5    6    7    8    9   10   11]\n",
            "[   0    1    2    3 1234    5    6    7    8    9   10   11]\n"
          ]
        }
      ]
    },
    {
      "cell_type": "markdown",
      "metadata": {
        "id": "uZmF8nxT-OnR"
      },
      "source": [
        "`Views` are returned when you slice an array."
      ]
    },
    {
      "cell_type": "code",
      "metadata": {
        "id": "Rpz1VOHd-V-W",
        "outputId": "8e1ad8b2-3836-471b-bf29-043e1ae4c63d",
        "colab": {
          "base_uri": "https://localhost:8080/"
        }
      },
      "source": [
        "s = a[1:3, :] # s is a view on the middle two rows of a\n",
        "print(s)"
      ],
      "execution_count": null,
      "outputs": [
        {
          "output_type": "stream",
          "name": "stdout",
          "text": [
            "[[   3 1234    5]\n",
            " [   6    7    8]]\n"
          ]
        }
      ]
    },
    {
      "cell_type": "code",
      "source": [
        "s[:] = 10 # So modifying the values of s modifies those same values in a\n",
        "print(a)"
      ],
      "metadata": {
        "colab": {
          "base_uri": "https://localhost:8080/"
        },
        "id": "6feY923wAHqH",
        "outputId": "28a72926-8a6a-40b9-ca0b-4236cdb23bcc"
      },
      "execution_count": null,
      "outputs": [
        {
          "output_type": "stream",
          "name": "stdout",
          "text": [
            "[[ 0  1  2]\n",
            " [10 10 10]\n",
            " [10 10 10]\n",
            " [ 9 10 11]]\n"
          ]
        }
      ]
    },
    {
      "cell_type": "markdown",
      "metadata": {
        "id": "dZ35mw0UrmMj"
      },
      "source": [
        "If you want a complete copy of an array with no connection to the original, use `copy`."
      ]
    },
    {
      "cell_type": "code",
      "metadata": {
        "id": "_VnMYVS0ryvu",
        "outputId": "d233dc95-2e62-4d65-f6de-8a4ac89026aa",
        "colab": {
          "base_uri": "https://localhost:8080/"
        }
      },
      "source": [
        "d = a.copy()\n",
        "d[0, 0] = 9999\n",
        "print(d)\n",
        "print(a)"
      ],
      "execution_count": null,
      "outputs": [
        {
          "output_type": "stream",
          "name": "stdout",
          "text": [
            "[[9999    1    2]\n",
            " [  10   10   10]\n",
            " [  10   10   10]\n",
            " [   9   10   11]]\n",
            "[[ 0  1  2]\n",
            " [10 10 10]\n",
            " [10 10 10]\n",
            " [ 9 10 11]]\n"
          ]
        }
      ]
    },
    {
      "cell_type": "markdown",
      "metadata": {
        "id": "1QNjkop5sJ1V"
      },
      "source": [
        "**Challenge:** Write out what you think the following code will print."
      ]
    },
    {
      "cell_type": "code",
      "metadata": {
        "id": "edpT-4M3sQLW",
        "outputId": "2d7dc732-f19f-42ac-eac4-ce56c8f2943c",
        "colab": {
          "base_uri": "https://localhost:8080/"
        }
      },
      "source": [
        "ma = np.array([1, 2, 3, 4, 5, 6])\n",
        "ma = ma.reshape((-1, 2))\n",
        "\n",
        "mb = ma[1]\n",
        "mb[:] = 90\n",
        "mb = mb.reshape((2, 1))\n",
        "\n",
        "print(mb)\n",
        "print('---')\n",
        "print(ma)"
      ],
      "execution_count": null,
      "outputs": [
        {
          "output_type": "stream",
          "name": "stdout",
          "text": [
            "[[90]\n",
            " [90]]\n",
            "---\n",
            "[[ 1  2]\n",
            " [90 90]\n",
            " [ 5  6]]\n"
          ]
        }
      ]
    },
    {
      "cell_type": "markdown",
      "metadata": {
        "id": "QKLAXBUDuHgP"
      },
      "source": [
        "## References\n",
        "\n",
        "- [NumPy Quickstart](https://numpy.org/doc/stable/user/quickstart.html)"
      ]
    }
  ]
}